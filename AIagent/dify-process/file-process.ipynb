{
 "cells": [
  {
   "cell_type": "code",
   "id": "initial_id",
   "metadata": {
    "collapsed": true,
    "ExecuteTime": {
     "end_time": "2025-03-12T11:01:56.701843Z",
     "start_time": "2025-03-12T11:01:56.442404Z"
    }
   },
   "source": "import pandas as pd",
   "outputs": [],
   "execution_count": 1
  },
  {
   "metadata": {
    "ExecuteTime": {
     "end_time": "2025-03-12T11:01:56.719096Z",
     "start_time": "2025-03-12T11:01:56.712384Z"
    }
   },
   "cell_type": "code",
   "source": "df = pd.read_csv('Park.txt', header=None,sep=',')",
   "id": "62d7e5ec2b4f11a6",
   "outputs": [],
   "execution_count": 2
  },
  {
   "metadata": {
    "ExecuteTime": {
     "end_time": "2025-03-12T11:01:56.869860Z",
     "start_time": "2025-03-12T11:01:56.863518Z"
    }
   },
   "cell_type": "code",
   "source": "df.head()",
   "id": "5aa8a1cb00c1dd71",
   "outputs": [
    {
     "data": {
      "text/plain": [
       "                                                   0\n",
       "0  停车场名称：交子百业A2停车场，所在园区：交子百业，地址：四川省甘孜藏族自治州九龙县，面积：...\n",
       "1  停车场名称：江安河地上停车场，所在园区：青羊B区（暂定），地址：四川省成都市青羊区光华8线，...\n",
       "2  停车场名称：三圣乡万福花市停车场，所在园区：荷塘月色，地址：四川省甘孜藏族自治州九龙县，面积...\n",
       "3  停车场名称：青龙湖二期LQ-YZ-20西侧地上停车场，所在园区：青龙湖二期，地址：四川省成都...\n",
       "4  停车场名称：玉垒路西侧停车场（1号），所在园区：大熊猫繁育研究基地，地址：四川省成都市金牛区..."
      ],
      "text/html": [
       "<div>\n",
       "<style scoped>\n",
       "    .dataframe tbody tr th:only-of-type {\n",
       "        vertical-align: middle;\n",
       "    }\n",
       "\n",
       "    .dataframe tbody tr th {\n",
       "        vertical-align: top;\n",
       "    }\n",
       "\n",
       "    .dataframe thead th {\n",
       "        text-align: right;\n",
       "    }\n",
       "</style>\n",
       "<table border=\"1\" class=\"dataframe\">\n",
       "  <thead>\n",
       "    <tr style=\"text-align: right;\">\n",
       "      <th></th>\n",
       "      <th>0</th>\n",
       "    </tr>\n",
       "  </thead>\n",
       "  <tbody>\n",
       "    <tr>\n",
       "      <th>0</th>\n",
       "      <td>停车场名称：交子百业A2停车场，所在园区：交子百业，地址：四川省甘孜藏族自治州九龙县，面积：...</td>\n",
       "    </tr>\n",
       "    <tr>\n",
       "      <th>1</th>\n",
       "      <td>停车场名称：江安河地上停车场，所在园区：青羊B区（暂定），地址：四川省成都市青羊区光华8线，...</td>\n",
       "    </tr>\n",
       "    <tr>\n",
       "      <th>2</th>\n",
       "      <td>停车场名称：三圣乡万福花市停车场，所在园区：荷塘月色，地址：四川省甘孜藏族自治州九龙县，面积...</td>\n",
       "    </tr>\n",
       "    <tr>\n",
       "      <th>3</th>\n",
       "      <td>停车场名称：青龙湖二期LQ-YZ-20西侧地上停车场，所在园区：青龙湖二期，地址：四川省成都...</td>\n",
       "    </tr>\n",
       "    <tr>\n",
       "      <th>4</th>\n",
       "      <td>停车场名称：玉垒路西侧停车场（1号），所在园区：大熊猫繁育研究基地，地址：四川省成都市金牛区...</td>\n",
       "    </tr>\n",
       "  </tbody>\n",
       "</table>\n",
       "</div>"
      ]
     },
     "execution_count": 3,
     "metadata": {},
     "output_type": "execute_result"
    }
   ],
   "execution_count": 3
  },
  {
   "metadata": {
    "ExecuteTime": {
     "end_time": "2025-03-12T11:01:56.932911Z",
     "start_time": "2025-03-12T11:01:56.927326Z"
    }
   },
   "cell_type": "code",
   "source": [
    "strs = []\n",
    "# 创建一个空字典来存储解析后的键值对\n",
    "park_dicts = []\n",
    "#循环处理每一行根据逗号分割成多列\n",
    "for i in range(len(df)):\n",
    "    strs.append(df.iloc[i][0].split('，'))\n",
    "\n",
    "def make_parking_dict(item):\n",
    "    parking_info_dict = {}\n",
    "    for field in item:\n",
    "    #     # 对每一部分再按“：”分割成键和值\n",
    "        key, value = field.split(\"：\")\n",
    "    #     # 存入字典\n",
    "        parking_info_dict[key] = value\n",
    "    return parking_info_dict"
   ],
   "id": "438c4a216eb4df8e",
   "outputs": [],
   "execution_count": 4
  },
  {
   "metadata": {
    "ExecuteTime": {
     "end_time": "2025-03-12T11:01:57.132707Z",
     "start_time": "2025-03-12T11:01:57.129128Z"
    }
   },
   "cell_type": "code",
   "source": [
    "for str in strs:\n",
    "    park_dicts.append(make_parking_dict(str))"
   ],
   "id": "83a34309b2410123",
   "outputs": [],
   "execution_count": 5
  },
  {
   "metadata": {
    "ExecuteTime": {
     "end_time": "2025-03-12T11:01:59.132047Z",
     "start_time": "2025-03-12T11:01:59.129008Z"
    }
   },
   "cell_type": "code",
   "source": "data = pd.DataFrame(park_dicts)",
   "id": "c56010ebf071c06a",
   "outputs": [],
   "execution_count": 6
  },
  {
   "metadata": {
    "ExecuteTime": {
     "end_time": "2025-03-12T11:03:13.947917Z",
     "start_time": "2025-03-12T11:03:13.945252Z"
    }
   },
   "cell_type": "code",
   "source": "tmp = data[data['地址']!='四川省甘孜藏族自治州九龙县'].copy()",
   "id": "50986b5970619ec4",
   "outputs": [],
   "execution_count": 11
  },
  {
   "metadata": {
    "ExecuteTime": {
     "end_time": "2025-03-12T11:05:06.062915Z",
     "start_time": "2025-03-12T11:05:06.059977Z"
    }
   },
   "cell_type": "code",
   "source": "tmp.drop_duplicates(subset=['停车场名称'],inplace=True)",
   "id": "7fdca5e51cce982a",
   "outputs": [],
   "execution_count": 18
  },
  {
   "metadata": {
    "ExecuteTime": {
     "end_time": "2025-03-12T11:08:03.849278Z",
     "start_time": "2025-03-12T11:08:03.685761Z"
    }
   },
   "cell_type": "code",
   "source": "tmp.to_excel('park_data.xlsx', index=False)",
   "id": "4a70c447d18d1695",
   "outputs": [],
   "execution_count": 22
  },
  {
   "metadata": {
    "ExecuteTime": {
     "end_time": "2025-03-12T11:06:15.411218Z",
     "start_time": "2025-03-12T11:06:15.408948Z"
    }
   },
   "cell_type": "code",
   "source": "",
   "id": "cd7d8bc23a2a8d96",
   "outputs": [],
   "execution_count": null
  },
  {
   "metadata": {
    "ExecuteTime": {
     "end_time": "2025-03-12T11:06:15.582340Z",
     "start_time": "2025-03-12T11:06:15.580619Z"
    }
   },
   "cell_type": "code",
   "source": "",
   "id": "78b2bb34e9522d1c",
   "outputs": [],
   "execution_count": null
  },
  {
   "metadata": {
    "ExecuteTime": {
     "end_time": "2025-03-12T11:06:15.743261Z",
     "start_time": "2025-03-12T11:06:15.741336Z"
    }
   },
   "cell_type": "code",
   "source": "",
   "id": "77450bf850718888",
   "outputs": [],
   "execution_count": null
  },
  {
   "metadata": {
    "ExecuteTime": {
     "end_time": "2025-03-12T11:06:15.889193Z",
     "start_time": "2025-03-12T11:06:15.887072Z"
    }
   },
   "cell_type": "code",
   "source": "",
   "id": "f3f2b26e3ef46102",
   "outputs": [],
   "execution_count": null
  },
  {
   "metadata": {},
   "cell_type": "code",
   "outputs": [],
   "execution_count": null,
   "source": "",
   "id": "afc54dd9830fead1"
  }
 ],
 "metadata": {
  "kernelspec": {
   "display_name": "Python 3",
   "language": "python",
   "name": "python3"
  },
  "language_info": {
   "codemirror_mode": {
    "name": "ipython",
    "version": 2
   },
   "file_extension": ".py",
   "mimetype": "text/x-python",
   "name": "python",
   "nbconvert_exporter": "python",
   "pygments_lexer": "ipython2",
   "version": "2.7.6"
  }
 },
 "nbformat": 4,
 "nbformat_minor": 5
}
