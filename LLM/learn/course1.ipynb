{
 "cells": [
  {
   "cell_type": "code",
   "id": "initial_id",
   "metadata": {
    "collapsed": true,
    "ExecuteTime": {
     "end_time": "2025-03-15T13:54:12.873153Z",
     "start_time": "2025-03-15T13:54:11.924822Z"
    }
   },
   "source": [
    "from ollama import chat\n",
    "from ollama import ChatResponse\n",
    "\n",
    "response: ChatResponse = chat(model='deepseek-r1:14b', messages=[\n",
    "  {\n",
    "    'role': 'user',\n",
    "    'content': '你是谁？',\n",
    "  },\n",
    "])\n",
    "# 打印响应内容\n",
    "print(response)\n",
    "\n",
    "# 或者直接访问响应对象的字段\n",
    "#print(response.message.content)"
   ],
   "outputs": [
    {
     "name": "stdout",
     "output_type": "stream",
     "text": [
      "model='deepseek-r1:14b' created_at='2025-03-15T13:54:12.8704033Z' done=True done_reason='stop' total_duration=943258200 load_duration=16129000 prompt_eval_count=6 prompt_eval_duration=3000000 eval_count=40 eval_duration=923000000 message=Message(role='assistant', content='<think>\\n\\n</think>\\n\\n您好！我是由中国的深度求索（DeepSeek）公司开发的智能助手DeepSeek-R1。如您有任何任何问题，我会尽我所能为您提供帮助。', images=None, tool_calls=None)\n"
     ]
    }
   ],
   "execution_count": 3
  },
  {
   "metadata": {
    "ExecuteTime": {
     "end_time": "2025-03-15T13:31:57.787523Z",
     "start_time": "2025-03-15T13:31:57.785529Z"
    }
   },
   "cell_type": "code",
   "source": "",
   "id": "d7b45c99d6106a5c",
   "outputs": [],
   "execution_count": null
  },
  {
   "metadata": {
    "ExecuteTime": {
     "end_time": "2025-03-15T13:31:57.799590Z",
     "start_time": "2025-03-15T13:31:57.796898Z"
    }
   },
   "cell_type": "code",
   "source": "",
   "id": "ae2830b13ea28ea7",
   "outputs": [],
   "execution_count": null
  },
  {
   "metadata": {
    "ExecuteTime": {
     "end_time": "2025-03-15T13:31:58.015247Z",
     "start_time": "2025-03-15T13:31:58.013217Z"
    }
   },
   "cell_type": "code",
   "source": "",
   "id": "5d1cac3952b75dc7",
   "outputs": [],
   "execution_count": null
  },
  {
   "metadata": {
    "ExecuteTime": {
     "end_time": "2025-03-15T13:31:58.035328Z",
     "start_time": "2025-03-15T13:31:58.033328Z"
    }
   },
   "cell_type": "code",
   "source": "",
   "id": "2d5f23cba23beadb",
   "outputs": [],
   "execution_count": null
  },
  {
   "metadata": {
    "ExecuteTime": {
     "end_time": "2025-03-15T13:31:58.082122Z",
     "start_time": "2025-03-15T13:31:58.079097Z"
    }
   },
   "cell_type": "code",
   "source": "",
   "id": "afdb6c4af7207afe",
   "outputs": [],
   "execution_count": null
  },
  {
   "metadata": {},
   "cell_type": "code",
   "outputs": [],
   "execution_count": null,
   "source": "",
   "id": "87e242642a4c5e18"
  }
 ],
 "metadata": {
  "kernelspec": {
   "display_name": "Python 3",
   "language": "python",
   "name": "python3"
  },
  "language_info": {
   "codemirror_mode": {
    "name": "ipython",
    "version": 2
   },
   "file_extension": ".py",
   "mimetype": "text/x-python",
   "name": "python",
   "nbconvert_exporter": "python",
   "pygments_lexer": "ipython2",
   "version": "2.7.6"
  }
 },
 "nbformat": 4,
 "nbformat_minor": 5
}
