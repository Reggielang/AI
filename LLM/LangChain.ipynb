{
 "cells": [
  {
   "cell_type": "code",
   "id": "initial_id",
   "metadata": {
    "collapsed": true,
    "ExecuteTime": {
     "end_time": "2025-02-15T03:34:11.434174Z",
     "start_time": "2025-02-15T03:34:10.801767Z"
    }
   },
   "source": [
    "from langchain.embeddings import OllamaEmbeddings\n",
    "from langchain.vectorstores import FAISS\n",
    "from langchain.text_splitter import RecursiveCharacterTextSplitter\n",
    "from langchain.llms import Ollama\n",
    "from langchain.prompts import PromptTemplate\n",
    "from langchain.chains import RetrievalQA\n",
    "from langchain.docstore.document import Document"
   ],
   "outputs": [],
   "execution_count": 1
  },
  {
   "metadata": {
    "ExecuteTime": {
     "end_time": "2025-02-15T03:34:14.026038Z",
     "start_time": "2025-02-15T03:34:13.565332Z"
    }
   },
   "cell_type": "code",
   "source": [
    "# 定义embedding模型，对话模型和提示词\n",
    "from langchain_ollama import OllamaLLM\n",
    "\n",
    "llm = OllamaLLM(model=\"deepseek-r1:14b\")\n",
    "\n",
    "llm.invoke(\"The first man on the moon was ...\")"
   ],
   "id": "1be1ad3ca49bd017",
   "outputs": [
    {
     "ename": "ModuleNotFoundError",
     "evalue": "No module named 'langchain_ollama'",
     "output_type": "error",
     "traceback": [
      "\u001B[1;31m---------------------------------------------------------------------------\u001B[0m",
      "\u001B[1;31mModuleNotFoundError\u001B[0m                       Traceback (most recent call last)",
      "Cell \u001B[1;32mIn[2], line 2\u001B[0m\n\u001B[0;32m      1\u001B[0m \u001B[38;5;66;03m# 定义embedding模型，对话模型和提示词\u001B[39;00m\n\u001B[1;32m----> 2\u001B[0m \u001B[38;5;28;01mfrom\u001B[39;00m \u001B[38;5;21;01mlangchain_ollama\u001B[39;00m \u001B[38;5;28;01mimport\u001B[39;00m OllamaLLM\n\u001B[0;32m      4\u001B[0m llm \u001B[38;5;241m=\u001B[39m OllamaLLM(model\u001B[38;5;241m=\u001B[39m\u001B[38;5;124m\"\u001B[39m\u001B[38;5;124mdeepseek-r1:14b\u001B[39m\u001B[38;5;124m\"\u001B[39m)\n\u001B[0;32m      6\u001B[0m llm\u001B[38;5;241m.\u001B[39minvoke(\u001B[38;5;124m\"\u001B[39m\u001B[38;5;124mThe first man on the moon was ...\u001B[39m\u001B[38;5;124m\"\u001B[39m)\n",
      "\u001B[1;31mModuleNotFoundError\u001B[0m: No module named 'langchain_ollama'"
     ]
    }
   ],
   "execution_count": 2
  },
  {
   "metadata": {
    "ExecuteTime": {
     "end_time": "2025-02-14T01:44:22.834091Z",
     "start_time": "2025-02-14T01:44:15.850110Z"
    }
   },
   "cell_type": "code",
   "source": "print(llm.invoke(\"皇马是哪个国家的球队？\"))",
   "id": "95bb93e9fb922f87",
   "outputs": [
    {
     "name": "stdout",
     "output_type": "stream",
     "text": [
      "<think>\n",
      "好的，我现在需要回答用户的问题：“皇马是哪个国家的球队？” 用户已经给出了答案：皇家马德里足球俱乐部来自西班牙。\n",
      "\n",
      "现在我要模拟一个assistant对这个问题的思考过程。首先，我应该先明确问题是什么，然后逐步分析来得出答案。\n",
      "\n",
      "首先，皇马是Royal Madrid，全称是皇家马德里足球俱乐部。这个俱乐部的名字中有“Madrid”，也就是马德里，这是西班牙的首都。所以，这已经提示了它位于西班牙。\n",
      "\n",
      "接下来，我可以考虑皇马在国际上的知名度和影响力。皇马是一个非常著名的球队，经常参加欧洲的比赛，比如欧冠联赛。这些比赛通常会涉及到很多国家的球队，但皇马作为一支顶级球队，一直代表西班牙参赛。\n",
      "\n",
      "此外，皇马的历史也很悠久，成立于1902年，总部设在马德里。这也进一步确认了它属于西班牙。西班牙是一个足球强国，有很多优秀的球员和俱乐部，比如巴塞罗那也是来自西班牙。\n",
      "\n",
      "还可以考虑皇马的官方名称中的“Real”，意思是“皇家”或“王室”，这通常与国家有关，暗示着其地位和历史背景。在西班牙，许多重要的机构都会冠以“Real”这个称号，例如Real Madrid（马德里）、Real Sociedad（社会）等。\n",
      "\n",
      "另外，皇马的队徽中包含了一颗红色的十字星，这是卡洛斯一世的纹章的一部分，历史上与西班牙相关联。这也支持了它属于西班牙的事实。\n",
      "\n",
      "综上所述，通过球队名称中的地名、国际比赛的参与情况、成立时间和历史背景等信息，可以确定皇马来自西班牙。\n",
      "</think>\n",
      "\n",
      "皇马，即皇家马德里足球俱乐部（Real Madrid Club de Fútbol），是西班牙的一支著名足球队。该俱乐部成立于1902年，总部位于西班牙首都马德里，并且一直是欧洲顶级足球联赛中的强队。因此，皇马属于西班牙的球队。\n"
     ]
    }
   ],
   "execution_count": 10
  },
  {
   "metadata": {},
   "cell_type": "markdown",
   "source": "### 2.Prompt",
   "id": "ea739f5f447a209f"
  },
  {
   "metadata": {
    "ExecuteTime": {
     "end_time": "2025-02-14T01:44:40.877021Z",
     "start_time": "2025-02-14T01:44:28.340639Z"
    }
   },
   "cell_type": "code",
   "source": [
    "from langchain_ollama import OllamaLLM\n",
    "llm = OllamaLLM(model=\"deepseek-r1:14b\")\n",
    "from langchain_core.prompts import ChatPromptTemplate, HumanMessagePromptTemplate\n",
    "\n",
    "prompt = ChatPromptTemplate.from_messages([('system',\"你是一个有趣的足球评论员\"),(\"user\",\"{text}\")])\n",
    "chain = prompt | llm\n",
    "result = chain.invoke({\"text\":\"皇马的球员都叫什么名字？\"})\n",
    "print(result)"
   ],
   "id": "a39bb0062f897f0",
   "outputs": [
    {
     "name": "stdout",
     "output_type": "stream",
     "text": [
      "<think>\n",
      "嗯，用户问我皇马的球员们叫什么名字。首先，我得确定他是不是真的想知道具体的名字，还是只是随便问问。可能是他是个足球迷，想了解皇马的阵容，或者他正在写相关的文章需要资料。\n",
      "\n",
      "接下来，我应该列出皇马的主要球员，但考虑到球队名单经常变动，可能需要提醒他最新的信息以官方公告为准。这样既提供了帮助，又避免了过时的信息。\n",
      "\n",
      "然后，我要用有趣的方式介绍每个位置上的明星球员，让内容更生动，符合用户设定的“有趣的足球评论员”的身份。比如，提到姆巴佩的速度和本泽马的进球能力，这些都能吸引读者的兴趣。\n",
      "\n",
      "另外，可能用户对皇马的整体实力感兴趣，所以我会强调球队的年龄结构合理，既有经验丰富的老将也有年轻的新秀，这样的结构让皇马在比赛中更具竞争力。这样不仅回答了问题，还增加了额外的信息，让用户更全面地了解球队的情况。\n",
      "\n",
      "最后，考虑到用户可能希望得到更新的信息，我应该建议他查阅最新的官方名单或者关注体育新闻，确保信息的准确性。这样既帮助了用户，又引导他们获取最新资讯。\n",
      "</think>\n",
      "\n",
      "哈哈！让我来为你介绍一下皇家马德里足球俱乐部（Real Madrid CF）的一些明星球员吧！请注意，球队阵容会随着赛季和转会窗的变化而更新，以下是一些目前或近期在皇马效力的知名球员：\n",
      "\n",
      "- **门将**：  \n",
      "  - 雍尼·洛佩特吉（André Lopetegui）\n",
      "\n",
      "- **后卫**：  \n",
      "  - 瓦列霍（José Luis Gayà Valero）  \n",
      "  - 埃克托·埃雷拉（Hector Herrera）  \n",
      "  - 迪奥戈·卡多佐（Diogo Carvalho）  \n",
      "  - 米古埃尔·加西亚（Miguel García）  \n",
      "\n",
      "- **中场**：  \n",
      "  - 卢卡斯·巴斯克斯（Lucas Vázquez）  \n",
      "  - 马可·阿森西奥（Marco Asensio）  \n",
      "  - 贡萨洛·伊卡尔迪（Gonzalo Icardi，但这位球员实际上效力于国际米兰，可能你记错了名字！）  \n",
      "  - 托尼·克罗斯（Toni Kroos）  \n",
      "  - 米德尔斯堡的卡塞米罗（Casemiro）  \n",
      "\n",
      "- **前锋**：  \n",
      "  - 罗德里戈·戈mez（Rodrygo Goes）  \n",
      "  - 维尼修斯·儒尼奥尔（Vinícius Jr.）  \n",
      "  - 卡里姆·本泽马（Karim Benzema）  \n",
      "  - 埃登·阿扎尔（Eden Hazard）  \n",
      "  - 凯文·维特尔（Kevin Volland，但这位球员效力于勒沃库森，可能你记错了名字！）\n",
      "\n",
      "- **其他值得注意的球员**：  \n",
      "  - 费德里科·巴尔韦德（Federico Valverde）  \n",
      "  - 哈夫萨·阿米诺（Houssem Aïm）  \n",
      "\n",
      "不过请注意，球队阵容会不断变化，具体信息请以皇马官方发布为准！如果你想知道最新的球员名单，建议查阅皇马的官方网站或关注体育新闻哦！\n"
     ]
    }
   ],
   "execution_count": 11
  },
  {
   "metadata": {},
   "cell_type": "markdown",
   "source": "### 3.Chain",
   "id": "fdd85efe9db58a7"
  },
  {
   "metadata": {
    "ExecuteTime": {
     "end_time": "2025-02-14T01:47:33.811126Z",
     "start_time": "2025-02-14T01:47:20.186628Z"
    }
   },
   "cell_type": "code",
   "source": [
    "from langchain import LLMChain\n",
    "from langchain_core.prompts import PromptTemplate\n",
    "template = \"\"\"问题：{question}\n",
    "回答:让我们一步一步的思考这个问题\"\"\"\n",
    "prompt = PromptTemplate(template=template, input_variables=[\"question\"])\n",
    "llm_chain = LLMChain(prompt=prompt, llm=llm,verbose=True)\n",
    "question = \"皇马的球员都叫什么名字？\"\n",
    "llm_chain.invoke(question)"
   ],
   "id": "69bb77d50306fd2a",
   "outputs": [
    {
     "name": "stderr",
     "output_type": "stream",
     "text": [
      "C:\\Users\\kodi\\AppData\\Local\\Temp\\ipykernel_23548\\2931583773.py:6: LangChainDeprecationWarning: The class `LLMChain` was deprecated in LangChain 0.1.17 and will be removed in 1.0. Use :meth:`~RunnableSequence, e.g., `prompt | llm`` instead.\n",
      "  llm_chain = LLMChain(prompt=prompt, llm=llm,verbose=True)\n"
     ]
    },
    {
     "name": "stdout",
     "output_type": "stream",
     "text": [
      "\n",
      "\n",
      "\u001B[1m> Entering new LLMChain chain...\u001B[0m\n",
      "Prompt after formatting:\n",
      "\u001B[32;1m\u001B[1;3m问题：皇马的球员都叫什么名字？\n",
      "回答:让我们一步一步的思考这个问题\u001B[0m\n",
      "\n",
      "\u001B[1m> Finished chain.\u001B[0m\n"
     ]
    },
    {
     "data": {
      "text/plain": [
       "{'question': '皇马的球员都叫什么名字？',\n",
       " 'text': '<think>\\n嗯，我现在想知道皇家马德里队的球员们的名字。首先，我需要了解皇家马德里是哪个国家的球队，他们是西班牙的一支足球俱乐部，位于马德里。这支球队在西甲联赛中非常有名，并且有很多国际知名的球员。\\n\\n接下来，我可以想到一些著名的皇马球员，比如C罗（克里斯蒂亚诺·罗纳尔多）、贝尔（Gareth Bale）和本泽马（Karim Benzema）。这些球员在过去几年里一直是球队的核心成员。此外，我还听说过拉莫斯（Sergio Ramos），他也是皇马的重要后卫。\\n\\n除了这些名字，我还记得一些其他球员的名字，比如库尔图瓦（Thibaut Courtois），他是皇马的门将，表现非常出色。还有卡塞米罗（Casemiro），他在中场负责防守和拦截，对球队很重要。\\n\\n另外，我听说过阿森西奥（Marco Asensio）和巴斯克斯（Lucas Vázquez），他们在边路的速度很快，常能为球队创造机会。伊斯科（Isco Alarcón）也是皇马的中场球员之一，技术很好。\\n\\n最近几个赛季，皇马还引进了一些年轻有潜力的球员，比如维尼加斯（Fábio Cardoso），虽然他可能还在其他梯队。还有罗德里戈·戈斯（Rodrygo Goes），他在进攻端表现出色。\\n\\n当然，皇马的阵容会不断变化，有些球员可能会离开，新的球员也会加入。因此，具体的球员名单可能会有变动，特别是在转会窗口期间。为了获得最新的球员信息，最好查看皇马的官方网站或者可靠的体育新闻来源。\\n\\n总的来说，皇家马德里队拥有许多世界级的球员，他们在各个位置上都有很强的实力，这也是皇马能够在国际赛场上取得优异成绩的原因之一。\\n</think>\\n\\n皇家马德里足球俱乐部（Real Madrid CF）是一支位于西班牙马德里的职业足球队，成立于1902年。以下是截至2023年12月的一些主要球员名单：\\n\\n### 门将：\\n- **库尔图瓦**（Thibaut Courtois）\\n- **卢宁**（Andriy Lunin）\\n\\n### 后卫：\\n- **米利唐**（Eduardo Cándido Militão）\\n- **卡洛斯·卡瓦哈尔**（Carlo Carvajal）\\n- **纳乔·费尔南德斯**（Nacho Fernández）\\n- **巴列霍**（Alvaro Barroso Vázquez）\\n\\n### 中场：\\n- **克罗斯**（Toni Kroos）\\n- **莫德里奇**（Luka Modrić）\\n- **卡塞米罗**（Casemiro）\\n- **塞瓦内·略伦特**（Sergio Lerma）\\n- **巴尔韦德**（Fede Valverde）\\n\\n### 前锋：\\n- **本泽马**（Karim Benzema）\\n- **维尼加斯**（Fábio Cardoso）\\n- **阿森西奥**（Marco Asensio）\\n- **巴斯克斯**（Lucas Vázquez）\\n- **伊斯科**（Isco Alarcón）\\n- **罗德里戈·戈斯**（Rodrigo Goes）\\n\\n### 其他值得注意的球员：\\n- **拉莫斯**（Sergio Ramos） - 曾是皇马的重要后卫，但已转会至巴黎圣日耳曼。\\n- **贝尔**（Gareth Bale） - 之前的核心球员，现租借至英超球队。\\n\\n皇家马德里的阵容会定期更新，具体名单建议访问俱乐部官方网站或关注最新的体育新闻以获取最准确的信息。'}"
      ]
     },
     "execution_count": 12,
     "metadata": {},
     "output_type": "execute_result"
    }
   ],
   "execution_count": 12
  },
  {
   "metadata": {},
   "cell_type": "markdown",
   "source": "### 4. 应用map-reduce",
   "id": "4e35c72e704b0db1"
  },
  {
   "metadata": {
    "ExecuteTime": {
     "end_time": "2025-02-14T01:49:16.590605Z",
     "start_time": "2025-02-14T01:49:14.045067Z"
    }
   },
   "cell_type": "code",
   "source": [
    "from langchain.chat_models import ChatOllama\n",
    "from langchain.schema import HumanMessage\n",
    "chat_model = ChatOllama(model=\"deepseek-r1:14b\")\n",
    "chat_model.predict(\"你好\")"
   ],
   "id": "d93bd317326b7312",
   "outputs": [
    {
     "name": "stderr",
     "output_type": "stream",
     "text": [
      "C:\\Users\\kodi\\AppData\\Local\\Temp\\ipykernel_23548\\3528607417.py:3: LangChainDeprecationWarning: The class `ChatOllama` was deprecated in LangChain 0.3.1 and will be removed in 1.0.0. An updated version of the class exists in the :class:`~langchain-ollama package and should be used instead. To use it run `pip install -U :class:`~langchain-ollama` and import as `from :class:`~langchain_ollama import ChatOllama``.\n",
      "  chat_model = ChatOllama(model=\"deepseek-r1:14b\")\n",
      "C:\\Users\\kodi\\AppData\\Local\\Temp\\ipykernel_23548\\3528607417.py:4: LangChainDeprecationWarning: The method `BaseChatModel.predict` was deprecated in langchain-core 0.1.7 and will be removed in 1.0. Use :meth:`~invoke` instead.\n",
      "  chat_model.predict(\"你好\")\n"
     ]
    },
    {
     "data": {
      "text/plain": [
       "'<think>\\n\\n</think>\\n\\n你好！很高兴见到你，有什么我可以帮忙的吗？'"
      ]
     },
     "execution_count": 13,
     "metadata": {},
     "output_type": "execute_result"
    }
   ],
   "execution_count": 13
  },
  {
   "metadata": {
    "ExecuteTime": {
     "end_time": "2025-02-14T01:53:58.321435Z",
     "start_time": "2025-02-14T01:53:48.544364Z"
    }
   },
   "cell_type": "code",
   "source": [
    "message = [\n",
    "    HumanMessage(content=\"你是一个能够解读上市公司年报的智能机器人，了解大量的专业金融和商业术语，能够进行深度金融分析\"),\n",
    "]\n",
    "chat_model.predict_messages(message)"
   ],
   "id": "2ec5f7d4fbbb2f78",
   "outputs": [
    {
     "name": "stderr",
     "output_type": "stream",
     "text": [
      "C:\\Users\\kodi\\AppData\\Local\\Temp\\ipykernel_23548\\2032984773.py:4: LangChainDeprecationWarning: The method `BaseChatModel.predict_messages` was deprecated in langchain-core 0.1.7 and will be removed in 1.0. Use :meth:`~invoke` instead.\n",
      "  chat_model.predict_messages(message)\n"
     ]
    },
    {
     "data": {
      "text/plain": [
       "AIMessage(content='<think>\\n好的，现在我要分析用户提供的公司2023年半年度报告。首先，我会通读整个报告，识别出关键部分如管理层讨论与分析、财务报表摘要等。\\n\\n在“管理层讨论与分析”中，我注意到收入同比增长了15%，这表明市场需求强劲或销售策略有效。同时，研发费用增加了20%，显示公司正在加大创新投入，这对于长期竞争力很重要。\\n\\n利润方面，净利润增长8%，虽然不及收入增速的一半，但仍然可喜。不过利润率有所下降，可能需要进一步分析成本控制情况。\\n\\n现金流部分，经营活动的现金流为正，说明公司运营稳健。投资活动现金流为负，可能用于固定资产扩展或并购，显示未来增长计划。\\n\\n风险方面，原材料价格波动和市场竞争加剧是主要挑战。这些因素可能会影响未来的盈利能力和市场份额。\\n\\n综合来看，公司在上半年表现不错，但需注意成本控制和市场变化。建议管理层继续监控费用，并探索多元化策略以应对潜在风险。\\n</think>\\n\\n在分析上市公司的半年度报告时，我会从以下几个关键方面入手：\\n\\n1. **收入与利润增长**：观察公司收入是否持续增长，以及净利润的变化情况，判断其盈利能力。\\n\\n2. **成本控制**：检查营业成本和各项费用的变动，评估公司在控制支出方面的成效。\\n\\n3. **现金流健康状况**：分析经营活动、投资活动和筹资活动的现金流，确保公司的财务流动性。\\n\\n4. **研发投入与创新**：关注研发费用及其增长情况，了解公司对技术创新的重视程度。\\n\\n5. **市场风险因素**：识别行业环境、政策变化等外部风险，并评估公司应对策略的有效性。\\n\\n6. **未来展望与计划**：通过管理层讨论部分，了解公司的战略方向和未来的投资重点。\\n\\n7. **财务比率分析**：计算关键财务比率如ROE、毛利率、资产负债率等，深入评估公司财务状况。\\n\\n8. **行业比较**：将公司表现与其主要竞争对手进行对比，判断其在行业中的地位和竞争优势。\\n\\n通过以上步骤，我可以全面解读公司的财务健康状况和未来发展前景。', additional_kwargs={}, response_metadata={'model': 'deepseek-r1:14b', 'created_at': '2025-02-14T01:53:58.3038513Z', 'message': {'role': 'assistant', 'content': ''}, 'done_reason': 'stop', 'done': True, 'total_duration': 7723655500, 'load_duration': 11222900, 'prompt_eval_count': 26, 'prompt_eval_duration': 221000000, 'eval_count': 435, 'eval_duration': 7490000000}, id='run-8a3aa42e-e0ec-4318-a8e3-0a97ff7bdd75-0')"
      ]
     },
     "execution_count": 16,
     "metadata": {},
     "output_type": "execute_result"
    }
   ],
   "execution_count": 16
  },
  {
   "metadata": {},
   "cell_type": "markdown",
   "source": "### Prompt Template",
   "id": "ec9cdda941d1cb69"
  },
  {
   "metadata": {
    "ExecuteTime": {
     "end_time": "2025-02-14T02:02:25.436574Z",
     "start_time": "2025-02-14T02:02:12.093220Z"
    }
   },
   "cell_type": "code",
   "source": [
    "prompt = PromptTemplate.from_template(\"我们公司是做{product}的,请帮我给公司起个名字\")\n",
    "input_prompt = prompt.format(product=\"前后端开发、AI模型搭建\")\n",
    "print(f\"inoput_prompt: {input_prompt}\")\n",
    "print(f\"model_output: {chat_model.predict(input_prompt)}\")"
   ],
   "id": "48568424785f2089",
   "outputs": [
    {
     "name": "stdout",
     "output_type": "stream",
     "text": [
      "inoput_prompt: 我们公司是做前后端开发、AI模型搭建的,请帮我给公司起个名字\n",
      "model_output: <think>\n",
      "嗯，用户说他们公司主要是做前后端开发和AI模型搭建的。首先，我需要理解他们的业务范围。前后端开发指的是网站或应用的前端和后端部分，而AI模型搭建则是涉及到机器学习、深度学习等方面。\n",
      "\n",
      "接下来，我要考虑公司的名称应该反映出这两个核心业务。可能的话，名字里最好能同时体现技术开发和人工智能元素。例如，“Tech”、“Intelli”这样的词可能会比较合适。\n",
      "\n",
      "然后，我需要避免使用太宽泛或过于专业的词汇，以免让人难以理解公司业务。比如“云科技”虽然听起来不错，但可能不够具体。相反，“智灵”这种词既简洁又能传达智能的感觉。\n",
      "\n",
      "我还想到结合一些自然元素，如“星河”，寓意无限扩展和创造力，这样的名字不仅好听，还能给人一种科技感。另外，使用诸如“博远”、“创途”这样的词汇，能体现公司的远大志向和创新精神。\n",
      "\n",
      "考虑到用户可能需要一个既有技术感又容易记忆的名字，我可能会建议像“深度融创”或“极智方程”，这些名字听起来更有技术含量，同时也能让人联想到AI和开发领域。\n",
      "\n",
      "最后，我还要确保这些名字没有被其他公司注册，并且在不同的搜索引擎上都能通过验证。因此，在提供一些建议后，最好让用户进一步确认这些名字的可用性。\n",
      "</think>\n",
      "\n",
      "当然可以！以下是一些适合你们公司的名字建议：\n",
      "\n",
      "1. **智灵科技**  \n",
      "   （寓意：智慧与灵动的技术结合）\n",
      "\n",
      "2. **星河数创**  \n",
      "   （寓意：如星空般广阔，数字与创新的结合）\n",
      "\n",
      "3. **博远智能**  \n",
      "   （寓意：渊博的技术与长远的发展愿景）\n",
      "\n",
      "4. **深度融创**  \n",
      "   （寓意：深入的技术研发与融合创新）\n",
      "\n",
      "5. **极智方程**  \n",
      "   （寓意：极致的智慧与代码的力量）\n",
      "\n",
      "6. **创途科技**  \n",
      "   （寓意：创新之路，科技驱动未来）\n",
      "\n",
      "7. **云智开发**  \n",
      "   （寓意：云端智能，专注开发）\n",
      "\n",
      "8. **智芯科技**  \n",
      "   （寓意：智能核心的技术研发）\n",
      "\n",
      "9. **网智元创**  \n",
      "   （寓意：网络智能与原创技术）\n",
      "\n",
      "10. **极客先锋**  \n",
      "    （寓意：极客精神，引领AI与前端开发的潮流）\n",
      "\n",
      "这些名字都结合了“技术、智能、创新”等关键词，既体现了你们公司的业务特点，又具备一定的专业性和未来感。如果需要进一步调整或优化，请随时告诉我！\n"
     ]
    }
   ],
   "execution_count": 17
  },
  {
   "metadata": {
    "ExecuteTime": {
     "end_time": "2025-02-14T02:13:28.027268Z",
     "start_time": "2025-02-14T02:13:23.574105Z"
    }
   },
   "cell_type": "code",
   "source": [
    "from langchain.prompts import HumanMessagePromptTemplate, ChatPromptTemplate\n",
    "template = \"你是一个翻译机器人，可以将{input_language}翻译成{output_language}。\"\n",
    "system_messages_prompt = HumanMessagePromptTemplate.from_template(template)\n",
    "human_template = \"{input_language}:{text}\\n{output_language}:\"\n",
    "human_message_prompt = HumanMessagePromptTemplate.from_template(human_template)\n",
    "chat_prompt = ChatPromptTemplate.from_messages([system_messages_prompt, human_message_prompt])\n",
    "messages = chat_prompt.format_messages(input_language=\"中文\",output_language=\"English\",text=\"大模型实战:AIGC技术原理及实际应用\")\n",
    "chat_model.predict_messages(messages)"
   ],
   "id": "d3f1ddf9ca7b621",
   "outputs": [
    {
     "data": {
      "text/plain": [
       "AIMessage(content='<think>\\n\\n</think>\\n\\nLarge Model Practice: AIGC Technology Principles and Practical Applications', additional_kwargs={}, response_metadata={'model': 'deepseek-r1:14b', 'created_at': '2025-02-14T02:13:28.0188136Z', 'message': {'role': 'assistant', 'content': ''}, 'done_reason': 'stop', 'done': True, 'total_duration': 2402609100, 'load_duration': 1842498300, 'prompt_eval_count': 31, 'prompt_eval_duration': 109000000, 'eval_count': 17, 'eval_duration': 277000000}, id='run-a238183a-0fa0-4ea4-8de6-bcbec4bc90ea-0')"
      ]
     },
     "execution_count": 23,
     "metadata": {},
     "output_type": "execute_result"
    }
   ],
   "execution_count": 23
  },
  {
   "metadata": {},
   "cell_type": "markdown",
   "source": "### 输出解析器",
   "id": "86003b996cedeb58"
  },
  {
   "metadata": {
    "ExecuteTime": {
     "end_time": "2025-02-14T02:18:46.024689Z",
     "start_time": "2025-02-14T02:18:46.013686Z"
    }
   },
   "cell_type": "code",
   "source": [
    "from langchain.schema import BaseOutputParser\n",
    "class CommaSeparatedListOutputParser(BaseOutputParser):\n",
    "    \"\"\"Parse the output of an LLM call to a comma-separated list.\"\"\"\n",
    "    def parse(self, text: str):\n",
    "        \"\"\"Parse the output of an LLM call.\"\"\"\n",
    "        return text.strip().split(\",\")\n",
    "\n",
    "CommaSeparatedListOutputParser().parse(\"1,2,3\")"
   ],
   "id": "586cd158d75b9903",
   "outputs": [
    {
     "data": {
      "text/plain": [
       "['1', '2', '3']"
      ]
     },
     "execution_count": 25,
     "metadata": {},
     "output_type": "execute_result"
    }
   ],
   "execution_count": 25
  },
  {
   "metadata": {},
   "cell_type": "markdown",
   "source": "### LLMChain",
   "id": "196ea1ff976f7165"
  },
  {
   "metadata": {
    "ExecuteTime": {
     "end_time": "2025-02-14T02:24:57.553077Z",
     "start_time": "2025-02-14T02:24:47.867788Z"
    }
   },
   "cell_type": "code",
   "source": [
    "from langchain.chains import LLMChain\n",
    "template = \"用户将输入一个类别，你需要输出该类别中的5个对象，并以逗号分割的列表的形式返回，仅返回逗号分割的列表，不返回其他任何内容。\"\n",
    "human_template = template+\"输入：{text},输出：\"\n",
    "human_message_prompt = HumanMessagePromptTemplate.from_template(human_template)\n",
    "chat_prompt = ChatPromptTemplate.from_messages([human_message_prompt])\n",
    "chain = LLMChain(prompt=chat_prompt, llm=llm,output_parser=CommaSeparatedListOutputParser())\n",
    "chain.run(\"颜色\")"
   ],
   "id": "acc8713ec96a925a",
   "outputs": [
    {
     "data": {
      "text/plain": [
       "['<think>\\n嗯，今天老师布置了一个作业，要求我们根据给定的类别输出五个相关对象，用逗号分隔。我看到这个任务的时候，心里有点紧张，因为有时候刚开始学的话，可能会不知道从哪里下手。不过没关系，慢慢来，仔细想一想。\\n\\n首先，我要理解清楚题目要求。用户输入一个类别，比如“颜色”，然后我需要输出五个与该类别相关的对象，用逗号分隔成列表形式。而且只返回这个列表，不能有其他内容。所以，第一步是确认输入的类别是什么，这里输入的是“颜色”。\\n\\n接下来，我需要思考颜色类别的具体例子。颜色有很多种，我知道的基本颜色有红色、蓝色、绿色等等。那我可以先列出一些常见的颜色名称。比如红色（red）、蓝色（blue）、绿色（green）这些是比较基础的颜色。\\n\\n然后，我想是不是还有其他颜色呢？比如黄色（yellow）、紫色（purple），这些都是比较明显的。再想想，黑色（black）和白色（white）也是基本色之一，应该包括在内。这样我已经有了六个颜色，不过题目只需要五个，所以可以选其中五个。\\n\\n但是等等，或许我应该选择更常用的或者更典型的颜色，比如红色、蓝色、绿色、黄色和紫色，这五种颜色比较常见，而且涵盖不同的色调范围。或者，我可以考虑更多的变种，比如橙色（orange）、粉色（pink），但可能老师希望我们选最基础的。\\n\\n另外，考虑到国际通用性，使用英文名称是更好的选择，因为这样可以避免中文里一些颜色名称的差异。例如，在英语中，红色是red，蓝色是blue，绿色是green，黄色是yellow，紫色是purple，这些都是大家普遍认可的颜色名称。\\n\\n现在，我需要确保输出的是逗号分隔的列表，并且只返回这个列表，没有任何额外的内容。所以，最终的结果应该是这样的格式：“red',\n",
       " ' blue',\n",
       " ' green',\n",
       " ' yellow',\n",
       " ' purple”或者类似的五个颜色。\\n\\n但是，有没有可能漏掉什么重要的颜色呢？比如，黑色（black）和白色（white）也是很重要的，有时候在分类中会被优先考虑。那如果用户需要的是更全面的颜色列表，可能包括这些基本色。不过，在这种情况下，我应该遵循题目的要求，选择五个对象，所以可以选其中的五个。\\n\\n最后，我觉得红色、蓝色、绿色、黄色和紫色这五种颜色比较合适，它们覆盖了不同的色调，并且都是大家熟悉的常见颜色。这样输出的话，既符合题目要求，又能够准确反映颜色类别中的对象。\\n</think>\\n\\nred',\n",
       " ' blue',\n",
       " ' green',\n",
       " ' yellow',\n",
       " ' purple']"
      ]
     },
     "execution_count": 28,
     "metadata": {},
     "output_type": "execute_result"
    }
   ],
   "execution_count": 28
  },
  {
   "metadata": {},
   "cell_type": "markdown",
   "source": "### 文档加载器",
   "id": "39a54d18896d2b3a"
  },
  {
   "metadata": {
    "ExecuteTime": {
     "end_time": "2025-02-14T07:32:29.390327Z",
     "start_time": "2025-02-14T07:32:29.350457Z"
    }
   },
   "cell_type": "code",
   "source": [
    "from langchain.document_loaders import Docx2txtLoader\n",
    "loader = Docx2txtLoader('知识产权合作协议—成都兴城融晟(审)-合同.docx')\n",
    "docs = loader.load()\n",
    "# # 输出文档内容\n",
    "# for page in docs:\n",
    "#     print(page.page_content)"
   ],
   "id": "a9dcae55626740d2",
   "outputs": [],
   "execution_count": 4
  },
  {
   "metadata": {
    "ExecuteTime": {
     "end_time": "2025-02-14T07:32:32.575134Z",
     "start_time": "2025-02-14T07:32:32.546160Z"
    }
   },
   "cell_type": "code",
   "source": [
    "# 文档分割器\n",
    "from langchain.text_splitter import RecursiveCharacterTextSplitter\n",
    "loader = Docx2txtLoader('知识产权合作协议—成都兴城融晟(审)-合同.docx')\n",
    "docs = loader.load()\n",
    "text_splitter = RecursiveCharacterTextSplitter(chunk_size=100, chunk_overlap=20,length_function=len,add_start_index=True)\n",
    "texts = text_splitter.split_documents(docs)\n",
    "print(f\"分割后文档数量：{len(texts)}\")"
   ],
   "id": "9f15c3a238103326",
   "outputs": [
    {
     "name": "stdout",
     "output_type": "stream",
     "text": [
      "分割后文档数量：101\n"
     ]
    }
   ],
   "execution_count": 5
  },
  {
   "metadata": {
    "ExecuteTime": {
     "end_time": "2025-02-14T07:32:40.874069Z",
     "start_time": "2025-02-14T07:32:40.860060Z"
    }
   },
   "cell_type": "code",
   "source": "texts[0]",
   "id": "e1758beb7bdb5c36",
   "outputs": [
    {
     "data": {
      "text/plain": [
       "Document(metadata={'source': '知识产权合作协议—成都兴城融晟(审)-合同.docx', 'start_index': 0}, page_content='编号：XCRS-KJXX-2023FYW-01\\n\\n\\n\\n\\n\\n\\n\\n\\n\\n\\n\\n知识产权综合服务合同')"
      ]
     },
     "execution_count": 6,
     "metadata": {},
     "output_type": "execute_result"
    }
   ],
   "execution_count": 6
  },
  {
   "metadata": {
    "ExecuteTime": {
     "end_time": "2025-02-14T07:17:17.150127Z",
     "start_time": "2025-02-14T07:17:17.135176Z"
    }
   },
   "cell_type": "code",
   "source": "# magic-pdf --path \"E:\\AI\\LLM\\外观专利代理服务合同.pdf\" --output-dir \"E:\\AI\\LLM\\PDF_output\" --method auto\n",
   "id": "fe93381308e181ee",
   "outputs": [],
   "execution_count": null
  },
  {
   "metadata": {
    "ExecuteTime": {
     "end_time": "2025-02-15T02:51:13.353719Z",
     "start_time": "2025-02-15T02:51:13.337079Z"
    }
   },
   "cell_type": "code",
   "source": "# magic-pdf --path \"E:\\AI\\LLM\\DeepSeek R1微调实战.pdf\" --output-dir \"E:\\AI\\LLM\\PDF_output\" --method auto\n",
   "id": "f33f7e09bb644270",
   "outputs": [],
   "execution_count": null
  },
  {
   "metadata": {
    "ExecuteTime": {
     "end_time": "2025-02-14T07:17:17.737954Z",
     "start_time": "2025-02-14T07:17:17.723065Z"
    }
   },
   "cell_type": "code",
   "source": "# A high-quality tool for convert PDF to Markdown and JSON.一站式开源高质量数据提取工具，将PDF转换成Markdown和JSON格式。",
   "id": "9fabead27f2804ed",
   "outputs": [],
   "execution_count": null
  },
  {
   "metadata": {
    "ExecuteTime": {
     "end_time": "2025-03-03T13:55:43.335987Z",
     "start_time": "2025-03-03T13:54:58.665920Z"
    }
   },
   "cell_type": "code",
   "source": [
    "from langchain_core.prompts import ChatPromptTemplate\n",
    "from langchain_ollama.llms import OllamaLLM\n",
    "model = OllamaLLM(model=\"deepseek-r1:14b\")\n",
    "template = \"\"\"\n",
    "背景:现在你是一个数学逻辑专家，你需要根据下面表格的一些数据信息，来达到物资分配的最优解决方案。也就是最便宜又能满足需求的分配方案。\n",
    "表1：物资今日价格信息\n",
    "| 物资名称 |  物资单价 |\n",
    "| -------- |  --------|\n",
    "| 物资1    |  100      |\n",
    "| 物资2    |  200      |\n",
    "| 物资3    |  300      |\n",
    "| 物资4    |  400      |\n",
    "| 物资5    |  500      |\n",
    "\n",
    "表2：供应商库存信息 （如果为0则代表该供应商没有该物料）\n",
    "| 供应商名称 |  物资1 |  物资2 |  物资3 |  物资4 |  物资5 |\n",
    "| -------- |  --------| --------| --------| --------| --------|\n",
    "| 供应商1    |  200      |  200      |  50      |  50      |  60      |\n",
    "| 供应商2    |  200      |  200      |  50      |  0       |  60      |\n",
    "| 供应商3    |  300      |   0       |  50      |  50      |  60      |\n",
    "| 供应商4    |  400      |  200      |  50      |  50      |  0       |\n",
    "\n",
    "表3: 供应商到不同项目地的运费信息 (单位：元,如果为空则代表无法送达该项目地）\n",
    "| 供应商名称 | 项目地1 | 项目地2 | 项目地3 | 项目地4 | 项目地5 |\n",
    "| -------- | -------- | --------| --------| --------| --------|\n",
    "| 供应商1    | 100      | 60      | 35      |         | 25      |\n",
    "| 供应商2    | 100      | 50      | 40      | 20      | 35      |\n",
    "| 供应商3    | 100      | 55      | 45      | 52      |         |\n",
    "| 供应商4    | 100      | 30      | 50      | 45      | 20      |\n",
    "| 供应商5    | 100      |         | 20      | 78      | 10      |\n",
    "\n",
    "表4：公司对于不同供应商的下浮价（优惠价格：从供应商1那里购买物料最终的单价需要减去下浮价）\n",
    "| 供应商名称 | 下浮价 |\n",
    "| -------- | -------- |\n",
    "| 供应商1    | 10      |\n",
    "| 供应商2    | 20      |\n",
    "| 供应商3    | 30      |\n",
    "| 供应商4    | 25      |\n",
    "| 供应商5    | 15      |\n",
    "\n",
    "现在，你需要根据表1、表2、表3、表4的信息，来计算出最优的物资分配方案。\n",
    "记住必须满足以下条件：\n",
    "1.必须满足以34的倍数分配，不能有余数。\n",
    "2.最后的分配方案必须是最优的，也就是最便宜又能满足需求的分配方案。\n",
    "3.最后输出的结果必须是一个表格，表格的格式必须是markdown格式，表格的列名必须是：供应商名称、项目地、物资名称、物资数量、物资单价、运费、总价\n",
    "4.需要被分配的物料必须全部分配成功才能发车。否则，就不能发车。\n",
    "5.如果不能发车，那么就输出：不能发车，并且输出不能发车的原因。\n",
    "\n",
    "问题: {question}\n",
    "\n",
    "答案: 请一步一步的思考问题.\"\"\"\n",
    "\n",
    "prompt = ChatPromptTemplate.from_template(template)\n",
    "\n",
    "chain = prompt | model\n",
    "\n",
    "chain.invoke({\"question\": \"我需要分配68吨物料，物资1和物资3各需要34吨，运送到项目地1，请问如何进行分配？\"})"
   ],
   "id": "736efea68cabe31f",
   "outputs": [
    {
     "data": {
      "text/plain": [
       "'<think>\\n好的，我现在要解决这个物资分配的问题。首先，我需要仔细理解用户提出的需求，并分析给定的数据表格，找出最优的解决方案。\\n\\n用户的需求是：分配68吨物料到项目地1，其中物资1和物资3各需要34吨。也就是说，总需求是34+34=68吨。现在必须从供应商那里采购这些物资，并且满足以下条件：\\n\\n1. 物资数量必须以34的倍数分配，不能有余数。\\n2. 最终的分配方案要最便宜。\\n3. 输出结果为表格，包括供应商名称、项目地、物资名称、数量、单价、运费和总价。\\n4. 所有需要的物料都必须成功分配，否则不能发车。\\n\\n首先，我需要确认是否有足够的物资供应。查看表2，各供应商的库存情况：\\n\\n- 物资1：供应商1有200吨，供应商2也有200吨，供应商3有300吨，供应商4有400吨。\\n- 物资3：供应商1有30吨，供应商2同样有30吨，供应商3有30吨，供应商4有30吨。\\n\\n总需求是物资1和物资3各34吨。因此：\\n\\n- 对于物资1，总供应量为200+200+300+400=1100吨，远大于34吨。\\n- 物资3的总供应量为30*4=120吨，也足够。\\n\\n接下来，我需要计算每个供应商提供物资到项目地1的成本，包括物资单价、下浮价和运费。然后比较这些成本，选择最便宜的方式。\\n\\n表3显示，所有供应商都能送达项目地1，所以没有问题。现在计算每个供应商的总成本：\\n\\n- 物资1：\\n  - 供应商1：单价100元，下浮价10元，运费100元。每吨成本=（100-10）+100=190元。\\n  - 供应商2：单价200-20=180 + 运费100=280元/吨。\\n  - 供应商3：300-30=270 + 运费100=370元/吨。\\n  - 供应商4：400-25=375 + 运费100=475元/吨。\\n  \\n  因此，物资1选择供应商1最便宜。\\n\\n- 物资3：\\n  - 供应商1：300-10=290 + 运费100=390元/吨。\\n  - 供应商2：300-20=280 + 运费50=330元/吨。\\n  - 供应商3：300-30=270 + 运费45=315元/吨。\\n  - 供应商4：300-25=275 + 运费50=325元/吨。\\n  \\n  因此，物资3选择供应商3最便宜。\\n\\n现在，检查库存：\\n\\n- 物资1需要34吨。供应商1有200吨，足够供应。\\n- 物资3需要34吨。供应商3有30吨，不够，因此不能全部从这里购买。必须寻找其他供应商补充。\\n\\n因此，物资3的分配可能需要多个供应商来满足需求：\\n\\n可能的组合：\\n- 供应商3提供30吨（最大库存），剩下的4吨需要由其他供应商提供。\\n- 其他供应商中，供应商1有30吨，可以提供剩下的4吨。但需要注意，每个物资的分配必须以34的倍数吗？不，总需求是34吨，所以每个物资的数量可以部分购买，只要总数满足即可。例如，物资3可以从多个供应商那里分别采购，只要总量为34吨。\\n\\n然而，问题中提到“必须满足以34的倍数分配”，这可能意味着每个物资的分配数量必须是34的倍数吗？或者总的需求是68吨，其中每个物资各34吨。因此，每个物资的分配可以拆分成多个供应商提供的部分，只要总量达到34吨即可。\\n\\n但根据问题描述，“必须满足以34的倍数分配”，可能是指每个物资的分配数量必须是34的整数倍。例如，如果某个供应商提供x吨，则x必须是0或34吨。但是这里总需求是34吨，所以只能从一个供应商那里购买34吨，或者多个供应商各自提供34吨，但总和超过的话可能无法满足。\\n\\n不过，在物资3的情况中，供应商3只有30吨，不足以单独提供34吨。因此，必须寻找其他方式：\\n\\n- 选项1：从供应商3购买30吨，再从另一个供应商购买4吨（但这样不符合“以34的倍数分配”的条件）。\\n- 选项2：寻找是否有其他供应商能提供至少34吨的物资3。\\n\\n检查表2中的物资3库存：\\n\\n- 供应商1：30吨\\n- 供应商2：30吨\\n- 供应商3：30吨\\n- 供应商4：30吨\\n\\n所有供应商都没有超过30吨的库存，所以无法单独从一个供应商获得34吨。因此，无法满足“以34的倍数分配”的条件，导致物资3无法完全采购到34吨。\\n\\n这可能意味着不能从任何单一供应商那里获得足够的物资3来满足需求，或者需要组合多个供应商，但这违反了每个物资必须是34的倍数的规定。\\n\\n或者，问题中的“必须满足以34的倍数分配”是指总的需求为68吨（即两个34吨），这可能意味着每个物资都必须从单一供应商那里购买完整的34吨。因此，在这种情况下，无法找到任何供应商提供足够的物资3来满足需求，因为所有供应商最多只能提供30吨。\\n\\n这意味着无法完成采购，导致无法发车。\\n\\n但根据表2，总库存足够，只是每个供应商单独提供的量不足。这可能意味着问题中的“以34的倍数分配”允许从多个供应商那里分别购买部分，只要每个物资的总数达到34吨即可。例如，物资3可以由多个供应商分别提供部分，只要总量为34吨。\\n\\n在这种情况下：\\n\\n- 物资1：选择最便宜的供应商1，采购34吨。\\n- 物资3：需要找到最便宜的组合。计算各个供应商的成本：\\n  - 供应商2：每吨成本=280元（物资单价）+ 运费50=330元/吨？ 不对，之前的计算有误。\\n\\n等一下，我可能混淆了单位。让我重新计算：\\n\\n对于物资3，每个供应商的总成本是：\\n\\n- 单价调整后 + 运费 = 总成本/吨\\n\\n因此：\\n\\n- 供应商1：(300 - 10) + 100 = 290 + 100 = 390元/吨\\n- 供应商2：(300 - 20) + 50 = 280 + 50 = 330元/吨\\n- 供应商3：(300 - 30) + 45 = 270 + 45 = 315元/吨\\n- 供应商4：(300 - 25) + 50 = 275 + 50 = 325元/吨\\n\\n因此，供应商3的物资3成本最低。\\n\\n现在，为了采购34吨物资3：\\n\\n- 最划算的是尽可能多地从供应商3购买，因为它的单位成本最低。供应商3有30吨，所以可以买30吨，剩下的4吨需要寻找最便宜的方式购买。\\n\\n剩下的4吨可以选择哪个供应商：\\n\\n比较其他供应商的每吨成本：\\n\\n- 供应商2：330元/吨\\n- 供应商4：325元/吨（比供应商3稍贵，但比供应商2便宜）\\n- 供应商1：390元/吨\\n\\n所以，剩下的4吨选择供应商4购买，因为它的单位成本是325元/吨，虽然不如供应商3便宜，但比供应商2好。\\n\\n因此，物资3的总成本为：\\n\\n30吨*315元 + 4吨*325元 = 9450 + 1300 = 10750元\\n\\n而如果选择从供应商2购买剩下的4吨，则是：\\n\\n30*315 + 4*330= 9450 +1320= 10770元，比前者稍贵。\\n\\n因此，最优方案是从供应商3买30吨，从供应商4买4吨。\\n\\n但问题要求每个物资的采购数量必须是34的倍数吗？还是总需求为34吨即可？\\n\\n根据问题描述，“必须满足以34的倍数分配”，可能是指每个供应商提供的量必须是34的整数倍。例如，只能从一个供应商那里购买34吨，而不能拆分成多个小批量。\\n\\n如果是这样，那么物资3无法从任何单一供应商获得34吨，因为所有供应商最多只有30吨。因此，采购失败，无法发车。\\n\\n这可能是一个矛盾的情况，需要确认问题的具体要求。\\n\\n重新审视问题描述：“必须满足以34的倍数分配”，这可能意味着每个供应商提供的数量必须是34的整数倍，而不是总需求量。例如，对于物资3，可以由多个供应商分别提供34吨的部分，但总和达到需求量即可。然而，在这种情况下，每个供应商只能提供最多30吨，无法满足单独提供34吨的需求。\\n\\n因此，可能的问题是无法采购到足够的物资3，导致无法发车。\\n\\n或者，问题中的“以34的倍数分配”指的是整个订单必须是68吨（即两个34吨），而不是每个物资。这种情况下，只要总需求为68吨即可，但每个物资需要分别采购34吨。\\n\\n这可能意味着采购失败，因为无法找到足够的供应商来提供所需的物资。\\n\\n另一种可能是，“以34的倍数分配”指的是每个订单的数量必须是34的倍数，而不是总采购量。例如，每个供应商只能整批购买，每批34吨，但这样对于物资3来说，每个供应商只能提供最多30吨，无法满足需求。\\n\\n因此，在这种情况下，无法完成采购，导致发车失败。\\n</think>\\n\\n由于每个供应商提供的物资3数量不足以满足34吨的需求（每个供应商最多只能提供30吨），并且必须以34的倍数分配订单，无法从任何单一供应商获得足够的物资3。因此，无法完成采购，导致发车失败。\\n\\n最终答案：\\\\boxed{\\\\text{不能发车}}'"
      ]
     },
     "execution_count": 4,
     "metadata": {},
     "output_type": "execute_result"
    }
   ],
   "execution_count": 4
  },
  {
   "metadata": {
    "ExecuteTime": {
     "end_time": "2025-03-04T01:01:36.749553Z",
     "start_time": "2025-03-04T01:01:36.747300Z"
    }
   },
   "cell_type": "code",
   "source": "",
   "id": "8cbb4ec7b35f553d",
   "outputs": [],
   "execution_count": null
  },
  {
   "metadata": {
    "ExecuteTime": {
     "end_time": "2025-03-04T01:01:36.978534Z",
     "start_time": "2025-03-04T01:01:36.977165Z"
    }
   },
   "cell_type": "code",
   "source": "",
   "id": "8555486d01a09280",
   "outputs": [],
   "execution_count": null
  },
  {
   "metadata": {
    "ExecuteTime": {
     "end_time": "2025-03-04T01:01:37.003796Z",
     "start_time": "2025-03-04T01:01:37.002214Z"
    }
   },
   "cell_type": "code",
   "source": "",
   "id": "4f24745780031eb5",
   "outputs": [],
   "execution_count": null
  },
  {
   "metadata": {
    "ExecuteTime": {
     "end_time": "2025-03-04T01:01:37.046686Z",
     "start_time": "2025-03-04T01:01:37.044294Z"
    }
   },
   "cell_type": "code",
   "source": "",
   "id": "e1e279ec8b63b3fd",
   "outputs": [],
   "execution_count": null
  },
  {
   "metadata": {
    "ExecuteTime": {
     "end_time": "2025-03-04T01:01:37.061751Z",
     "start_time": "2025-03-04T01:01:37.059194Z"
    }
   },
   "cell_type": "code",
   "source": "",
   "id": "8ba9d7acdbbb69d5",
   "outputs": [],
   "execution_count": null
  },
  {
   "metadata": {},
   "cell_type": "code",
   "outputs": [],
   "execution_count": null,
   "source": "",
   "id": "ebba8620890375a1"
  }
 ],
 "metadata": {
  "kernelspec": {
   "display_name": "Python 3",
   "language": "python",
   "name": "python3"
  },
  "language_info": {
   "codemirror_mode": {
    "name": "ipython",
    "version": 2
   },
   "file_extension": ".py",
   "mimetype": "text/x-python",
   "name": "python",
   "nbconvert_exporter": "python",
   "pygments_lexer": "ipython2",
   "version": "2.7.6"
  }
 },
 "nbformat": 4,
 "nbformat_minor": 5
}
