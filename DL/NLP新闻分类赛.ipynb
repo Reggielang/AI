{
 "cells": [
  {
   "metadata": {
    "ExecuteTime": {
     "end_time": "2025-01-17T14:16:55.201216Z",
     "start_time": "2025-01-17T14:16:54.938154Z"
    }
   },
   "cell_type": "code",
   "source": [
    "import numpy as np\n",
    "import pandas as pd"
   ],
   "id": "90b9aaeed7099c24",
   "outputs": [],
   "execution_count": 1
  },
  {
   "metadata": {
    "ExecuteTime": {
     "end_time": "2025-01-17T14:16:59.608281Z",
     "start_time": "2025-01-17T14:16:55.792122Z"
    }
   },
   "cell_type": "code",
   "source": [
    "#读取数据\n",
    "train = pd.read_csv('./data/yun_data/train_set.csv',sep='\\t')"
   ],
   "id": "8ea7ae8dcd7771b",
   "outputs": [],
   "execution_count": 2
  },
  {
   "metadata": {
    "ExecuteTime": {
     "end_time": "2025-01-17T14:16:59.625187Z",
     "start_time": "2025-01-17T14:16:59.608281Z"
    }
   },
   "cell_type": "code",
   "source": [
    "#查看数据基本情况以及分布\n",
    "train.head(),train.info()"
   ],
   "id": "84e4cf90313aad1e",
   "outputs": [
    {
     "name": "stdout",
     "output_type": "stream",
     "text": [
      "<class 'pandas.core.frame.DataFrame'>\n",
      "RangeIndex: 200000 entries, 0 to 199999\n",
      "Data columns (total 2 columns):\n",
      " #   Column  Non-Null Count   Dtype \n",
      "---  ------  --------------   ----- \n",
      " 0   label   200000 non-null  int64 \n",
      " 1   text    200000 non-null  object\n",
      "dtypes: int64(1), object(1)\n",
      "memory usage: 3.1+ MB\n"
     ]
    },
    {
     "data": {
      "text/plain": [
       "(   label                                               text\n",
       " 0      2  2967 6758 339 2021 1854 3731 4109 3792 4149 15...\n",
       " 1     11  4464 486 6352 5619 2465 4802 1452 3137 5778 54...\n",
       " 2      3  7346 4068 5074 3747 5681 6093 1777 2226 7354 6...\n",
       " 3      2  7159 948 4866 2109 5520 2490 211 3956 5520 549...\n",
       " 4      3  3646 3055 3055 2490 4659 6065 3370 5814 2465 5...,\n",
       " None)"
      ]
     },
     "execution_count": 3,
     "metadata": {},
     "output_type": "execute_result"
    }
   ],
   "execution_count": 3
  },
  {
   "metadata": {
    "ExecuteTime": {
     "end_time": "2025-01-17T14:16:59.638896Z",
     "start_time": "2025-01-17T14:16:59.633589Z"
    }
   },
   "cell_type": "code",
   "source": [
    "#label标签的分布情况\n",
    "# {'科技': 0, '股票': 1, '体育': 2, '娱乐': 3, '时政': 4, '社会': 5, '教育': 6, '财经': 7, '家居': 8, '游戏': 9, '房产': 10, '时尚': 11, '彩票': 12, '星座': 13}\n",
    "train.label.value_counts(),train.label.value_counts(1)\n",
    "#样本分布不均，0类别接近4W，13类别才900个左右"
   ],
   "id": "b7d1e425e2030268",
   "outputs": [
    {
     "data": {
      "text/plain": [
       "(label\n",
       " 0     38918\n",
       " 1     36945\n",
       " 2     31425\n",
       " 3     22133\n",
       " 4     15016\n",
       " 5     12232\n",
       " 6      9985\n",
       " 7      8841\n",
       " 8      7847\n",
       " 9      5878\n",
       " 10     4920\n",
       " 11     3131\n",
       " 12     1821\n",
       " 13      908\n",
       " Name: count, dtype: int64,\n",
       " label\n",
       " 0     0.194590\n",
       " 1     0.184725\n",
       " 2     0.157125\n",
       " 3     0.110665\n",
       " 4     0.075080\n",
       " 5     0.061160\n",
       " 6     0.049925\n",
       " 7     0.044205\n",
       " 8     0.039235\n",
       " 9     0.029390\n",
       " 10    0.024600\n",
       " 11    0.015655\n",
       " 12    0.009105\n",
       " 13    0.004540\n",
       " Name: proportion, dtype: float64)"
      ]
     },
     "execution_count": 4,
     "metadata": {},
     "output_type": "execute_result"
    }
   ],
   "execution_count": 4
  },
  {
   "metadata": {
    "ExecuteTime": {
     "end_time": "2025-01-17T14:17:03.468385Z",
     "start_time": "2025-01-17T14:16:59.642398Z"
    }
   },
   "cell_type": "code",
   "source": [
    "train['text_split_len'] = train['text'].apply(lambda x: len(x.split()))\n",
    "train['text_split_len'].max(), train['text_split_len'].min()"
   ],
   "id": "1d503ed1e92a60e0",
   "outputs": [
    {
     "data": {
      "text/plain": [
       "(57921, 2)"
      ]
     },
     "execution_count": 5,
     "metadata": {},
     "output_type": "execute_result"
    }
   ],
   "execution_count": 5
  },
  {
   "metadata": {
    "ExecuteTime": {
     "end_time": "2025-01-17T14:17:03.542122Z",
     "start_time": "2025-01-17T14:17:03.534605Z"
    }
   },
   "cell_type": "code",
   "source": [
    "train['text_split_len'].describe()\n",
    "# 赛题中每个新闻包含的字符个数平均为900个，还有一些新闻字符较长，以及太短，只有2个字符"
   ],
   "id": "db2070210fbbcb30",
   "outputs": [
    {
     "data": {
      "text/plain": [
       "count    200000.000000\n",
       "mean        907.207110\n",
       "std         996.029036\n",
       "min           2.000000\n",
       "25%         374.000000\n",
       "50%         676.000000\n",
       "75%        1131.000000\n",
       "max       57921.000000\n",
       "Name: text_split_len, dtype: float64"
      ]
     },
     "execution_count": 6,
     "metadata": {},
     "output_type": "execute_result"
    }
   ],
   "execution_count": 6
  },
  {
   "metadata": {
    "ExecuteTime": {
     "end_time": "2025-01-17T14:17:17.617888Z",
     "start_time": "2025-01-17T14:17:03.566317Z"
    }
   },
   "cell_type": "code",
   "source": [
    "#字符分布统计 看看那个字出现最多\n",
    "from collections import Counter\n",
    "all_lines = ' '.join(list(train['text']))\n",
    "word_count = Counter(all_lines.split(' '))\n",
    "word_count = sorted(word_count.items(), key=lambda d:d[1], reverse = True)"
   ],
   "id": "59d5c8c3484b820f",
   "outputs": [],
   "execution_count": 7
  },
  {
   "metadata": {
    "ExecuteTime": {
     "end_time": "2025-01-17T14:17:17.638978Z",
     "start_time": "2025-01-17T14:17:17.635788Z"
    }
   },
   "cell_type": "code",
   "source": [
    "#总共字符 6869种字符\n",
    "print(len(word_count))\n",
    "#最多\n",
    "print(word_count[0])\n",
    "#最少\n",
    "print(word_count[-1])"
   ],
   "id": "506e8dd69b1ed31b",
   "outputs": [
    {
     "name": "stdout",
     "output_type": "stream",
     "text": [
      "6869\n",
      "('3750', 7482224)\n",
      "('3133', 1)\n"
     ]
    }
   ],
   "execution_count": 8
  },
  {
   "metadata": {
    "ExecuteTime": {
     "end_time": "2025-01-17T14:17:31.579673Z",
     "start_time": "2025-01-17T14:17:17.658601Z"
    }
   },
   "cell_type": "code",
   "source": [
    "#这里还可以根据字在每个句子的出现情况，反推出标点符号。下面代码统计了不同字符在句子中出现的次数，其中字符3750，字符900和字符648在20w新闻的覆盖率接近99%，很有可能是标点符号。\n",
    "train['text_unique'] = train['text'].apply(lambda x: ' '.join(set(x.split(' '))))\n",
    "all_lines = ' '.join(list(train['text_unique']))\n",
    "word_count = Counter(all_lines.split(\" \"))\n",
    "word_count = sorted(word_count.items(), key=lambda d:int(d[1]), reverse = True)"
   ],
   "id": "c2ae3ea67e44f667",
   "outputs": [],
   "execution_count": 9
  },
  {
   "metadata": {
    "ExecuteTime": {
     "end_time": "2025-01-17T14:21:46.423904Z",
     "start_time": "2025-01-17T14:21:46.417718Z"
    }
   },
   "cell_type": "code",
   "source": [
    "#前一部分的字符，可能都是些标点符号\n",
    "for word in word_count[0:11]:\n",
    "    print(word, word[1]/len(train)*100.)"
   ],
   "id": "d839b3904e96b84b",
   "outputs": [
    {
     "name": "stdout",
     "output_type": "stream",
     "text": [
      "('3750', 197997) 98.9985\n",
      "('900', 197653) 98.8265\n",
      "('648', 191975) 95.9875\n",
      "('2465', 177310) 88.655\n",
      "('6122', 176543) 88.2715\n",
      "('7399', 176249) 88.1245\n",
      "('4811', 169371) 84.6855\n",
      "('4464', 167161) 83.5805\n",
      "('1699', 164856) 82.428\n",
      "('3659', 163171) 81.5855\n",
      "('2400', 163070) 81.535\n"
     ]
    }
   ],
   "execution_count": 21
  },
  {
   "metadata": {
    "ExecuteTime": {
     "end_time": "2025-01-17T14:21:49.812138Z",
     "start_time": "2025-01-17T14:21:49.806048Z"
    }
   },
   "cell_type": "code",
   "source": [
    "# 赛题中每个新闻包含的字符个数平均为1000个，还有一些新闻字符较长；\n",
    "# 赛题中新闻类别分布不均匀，科技类新闻样本量接近4w，星座类新闻样本量不到1k；\n",
    "# 赛题总共包括7000-8000个字符；\n",
    "# 通过数据分析，我们还可以得出以下结论：\n",
    "#\n",
    "# 每个新闻平均字符个数较多，可能需要截断；\n",
    "#\n",
    "# 由于类别不均衡，会严重影响模型的精度；"
   ],
   "id": "cd45cdc9e891fcbb",
   "outputs": [],
   "execution_count": null
  },
  {
   "metadata": {
    "ExecuteTime": {
     "end_time": "2025-01-17T14:43:52.434124Z",
     "start_time": "2025-01-17T14:43:38.884613Z"
    }
   },
   "cell_type": "code",
   "source": [
    "#统计每类新闻中出现次数对多的字符\n",
    "for label in sorted(train['label'].unique()):\n",
    "    all_lines = ' '.join(list(train[train.label==label]['text']))\n",
    "    word_count = Counter(all_lines.split(' '))\n",
    "    word_count = sorted(word_count.items(), key=lambda d:d[1], reverse = True)\n",
    "    #前一部分的字符，可能都是些标点符号\n",
    "    print(f'---------------这是标签{label}的TOP10字符-------------')\n",
    "    for word in word_count[0:11]:\n",
    "        if word[0] not in ['3750','648','900']:\n",
    "            print(word)"
   ],
   "id": "cf3e48e1dec3c302",
   "outputs": [
    {
     "name": "stdout",
     "output_type": "stream",
     "text": [
      "---------------这是标签0的TOP10字符-------------\n",
      "('3370', 503768)\n",
      "('4464', 307431)\n",
      "('2465', 296582)\n",
      "('6122', 272185)\n",
      "('3659', 261338)\n",
      "('7399', 260317)\n",
      "('4939', 239933)\n",
      "('4559', 209894)\n",
      "---------------这是标签1的TOP10字符-------------\n",
      "('3370', 626708)\n",
      "('4464', 445525)\n",
      "('3659', 388742)\n",
      "('5036', 321769)\n",
      "('6250', 275931)\n",
      "('1633', 248565)\n",
      "('6065', 224978)\n",
      "('6357', 219363)\n",
      "---------------这是标签2的TOP10字符-------------\n",
      "('7399', 351894)\n",
      "('6122', 343850)\n",
      "('4939', 337762)\n",
      "('4704', 305488)\n",
      "('1667', 301478)\n",
      "('5598', 287552)\n",
      "('669', 246758)\n",
      "('1099', 243205)\n",
      "---------------这是标签3的TOP10字符-------------\n",
      "('6122', 187933)\n",
      "('4939', 173606)\n",
      "('4893', 148784)\n",
      "('7399', 147338)\n",
      "('669', 146042)\n",
      "('803', 136564)\n",
      "('1635', 136345)\n",
      "('5598', 129091)\n",
      "---------------这是标签4的TOP10字符-------------\n",
      "('4411', 120442)\n",
      "('7399', 86190)\n",
      "('4893', 77475)\n",
      "('6122', 75635)\n",
      "('4464', 69311)\n",
      "('2400', 68390)\n",
      "('4853', 64847)\n",
      "('3370', 64757)\n",
      "---------------这是标签5的TOP10字符-------------\n",
      "('6122', 159125)\n",
      "('5598', 136713)\n",
      "('4893', 130570)\n",
      "('7399', 122535)\n",
      "('4939', 101289)\n",
      "('3370', 100053)\n",
      "('669', 99126)\n",
      "('803', 96091)\n",
      "---------------这是标签6的TOP10字符-------------\n",
      "('6248', 193757)\n",
      "('2555', 175234)\n",
      "('5620', 156918)\n",
      "('2465', 139652)\n",
      "('6122', 116862)\n",
      "('5560', 116326)\n",
      "('3370', 104467)\n",
      "('4939', 97154)\n",
      "---------------这是标签7的TOP10字符-------------\n",
      "('3370', 159156)\n",
      "('5296', 132136)\n",
      "('4464', 113240)\n",
      "('6835', 107336)\n",
      "('3659', 85823)\n",
      "('6122', 73080)\n",
      "('7399', 71970)\n",
      "('299', 70626)\n",
      "---------------这是标签8的TOP10字符-------------\n",
      "('6122', 57345)\n",
      "('4939', 56147)\n",
      "('913', 55475)\n",
      "('5560', 53856)\n",
      "('7399', 44714)\n",
      "('3961', 42116)\n",
      "('4811', 40020)\n",
      "('3893', 38618)\n",
      "---------------这是标签9的TOP10字符-------------\n",
      "('7328', 46477)\n",
      "('6122', 43411)\n",
      "('7399', 37571)\n",
      "('5547', 37559)\n",
      "('4939', 37159)\n",
      "('3370', 36384)\n",
      "('2465', 31554)\n",
      "('3747', 31220)\n",
      "---------------这是标签10的TOP10字符-------------\n",
      "('3370', 67780)\n",
      "('2465', 45163)\n",
      "('5560', 42447)\n",
      "('3686', 42023)\n",
      "('4464', 41274)\n",
      "('3523', 39430)\n",
      "('6122', 35291)\n",
      "('3659', 33513)\n",
      "---------------这是标签11的TOP10字符-------------\n",
      "('4939', 18591)\n",
      "('6122', 18438)\n",
      "('5560', 17933)\n",
      "('669', 17449)\n",
      "('4811', 14288)\n",
      "('7539', 11920)\n",
      "('4893', 11746)\n",
      "('7399', 11293)\n",
      "---------------这是标签12的TOP10字符-------------\n",
      "('4464', 51426)\n",
      "('3370', 45815)\n",
      "('2465', 36610)\n",
      "('3659', 34225)\n",
      "('6065', 30510)\n",
      "('1667', 22272)\n",
      "('2614', 21588)\n",
      "('5560', 18748)\n",
      "---------------这是标签13的TOP10字符-------------\n",
      "('4939', 9651)\n",
      "('669', 8925)\n",
      "('6122', 8321)\n",
      "('4893', 7605)\n",
      "('3864', 6241)\n",
      "('4811', 6069)\n",
      "('1465', 5684)\n",
      "('3800', 5525)\n"
     ]
    }
   ],
   "execution_count": 34
  },
  {
   "metadata": {
    "ExecuteTime": {
     "end_time": "2025-01-17T14:47:43.624729Z",
     "start_time": "2025-01-17T14:47:43.622553Z"
    }
   },
   "cell_type": "code",
   "source": "",
   "id": "2319984fea56d3b8",
   "outputs": [],
   "execution_count": null
  },
  {
   "metadata": {
    "ExecuteTime": {
     "end_time": "2025-01-17T14:10:17.894588Z",
     "start_time": "2025-01-17T14:10:17.891126Z"
    }
   },
   "cell_type": "code",
   "source": "",
   "id": "874800aaee0f09",
   "outputs": [],
   "execution_count": null
  },
  {
   "metadata": {
    "ExecuteTime": {
     "end_time": "2025-01-17T14:10:18.021167Z",
     "start_time": "2025-01-17T14:10:18.018414Z"
    }
   },
   "cell_type": "code",
   "source": "",
   "id": "b880eaa1870cdd43",
   "outputs": [],
   "execution_count": null
  },
  {
   "metadata": {},
   "cell_type": "code",
   "outputs": [],
   "execution_count": null,
   "source": "",
   "id": "ffc02cc109d611ad"
  }
 ],
 "metadata": {
  "kernelspec": {
   "name": "python3",
   "language": "python",
   "display_name": "Python 3 (ipykernel)"
  }
 },
 "nbformat": 5,
 "nbformat_minor": 9
}
