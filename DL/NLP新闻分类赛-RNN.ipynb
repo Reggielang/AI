{
 "cells": [
  {
   "metadata": {
    "ExecuteTime": {
     "end_time": "2025-01-24T04:47:47.764279Z",
     "start_time": "2025-01-24T04:47:45.518501Z"
    }
   },
   "cell_type": "code",
   "source": [
    "import torch\n",
    "import torch.nn as nn\n",
    "import torch.optim as optim\n",
    "from torch.utils.data import DataLoader, Dataset\n",
    "import torch.nn.functional as F\n",
    "from torch.optim.lr_scheduler import ReduceLROnPlateau\n",
    "import matplotlib.pyplot as plt\n",
    "from sklearn.model_selection import train_test_split\n",
    "import numpy as np\n",
    "import logging\n",
    "import pandas as pd\n",
    "import gensim\n",
    "from gensim.models import KeyedVectors\n",
    "\n",
    "logging.basicConfig(level=logging.INFO, format='%(asctime)-15s %(levelname)s: %(message)s')"
   ],
   "id": "c4302de61ce2000c",
   "outputs": [],
   "execution_count": 1
  },
  {
   "metadata": {
    "ExecuteTime": {
     "end_time": "2025-01-24T04:47:48.169855Z",
     "start_time": "2025-01-24T04:47:47.768276Z"
    }
   },
   "cell_type": "code",
   "source": [
    "# 预训练的词向量文件路径\n",
    "vec_path = \"word2vec.txt\"  # 替换为实际路径\n",
    "# 加载词向量文件\n",
    "word_vectors = gensim.models.KeyedVectors.load_word2vec_format(vec_path, binary=False)\n",
    "\n",
    "# 获取原始词向量的维度\n",
    "embedding_dim = word_vectors.vector_size\n",
    "\n",
    "# 初始化词汇表，包含特殊标记\n",
    "vocab = {'<unk>': 0, '[PAD]': 1}  # <unk> 和 [PAD] 的索引分别为 0 和 1\n",
    "\n",
    "# 将原始词向量添加到词汇表中\n",
    "for idx, word in enumerate(word_vectors.index_to_key, start=len(vocab)):\n",
    "    vocab[word] = idx\n",
    "\n",
    "# 更新 word_vectors，确保包含特殊标记\n",
    "special_tokens = {'<unk>': np.random.uniform(-0.25, 0.25, embedding_dim),\n",
    "                  '[PAD]': np.zeros(embedding_dim)}\n",
    "\n",
    "for token, vector in special_tokens.items():\n",
    "    if token not in word_vectors:\n",
    "        word_vectors.add_vector(token, vector)\n",
    "\n",
    "print(\"Vocabulary size:\", len(vocab))"
   ],
   "id": "e21608082ba31374",
   "outputs": [
    {
     "name": "stderr",
     "output_type": "stream",
     "text": [
      "2025-01-24 12:47:47,770 INFO: loading projection weights from word2vec.txt\n",
      "2025-01-24 12:47:48,164 INFO: KeyedVectors lifecycle event {'msg': 'loaded (5971, 200) matrix of type float32 from word2vec.txt', 'binary': False, 'encoding': 'utf8', 'datetime': '2025-01-24T12:47:48.164854', 'gensim': '4.3.3', 'python': '3.12.8 | packaged by Anaconda, Inc. | (main, Dec 11 2024, 16:48:34) [MSC v.1929 64 bit (AMD64)]', 'platform': 'Windows-10-10.0.19045-SP0', 'event': 'load_word2vec_format'}\n"
     ]
    },
    {
     "name": "stdout",
     "output_type": "stream",
     "text": [
      "Vocabulary size: 5973\n"
     ]
    },
    {
     "name": "stderr",
     "output_type": "stream",
     "text": [
      "E:\\miniconda3\\Lib\\site-packages\\gensim\\models\\keyedvectors.py:551: UserWarning: Adding single vectors to a KeyedVectors which grows by one each time can be costly. Consider adding in batches or preallocating to the required size.\n",
      "  warnings.warn(\n"
     ]
    }
   ],
   "execution_count": 2
  },
  {
   "metadata": {
    "ExecuteTime": {
     "end_time": "2025-01-24T04:47:48.295135Z",
     "start_time": "2025-01-24T04:47:48.290628Z"
    }
   },
   "cell_type": "code",
   "source": [
    "#数据集处理\n",
    "class TextDataset(Dataset):\n",
    "    def __init__(self, texts, labels, word_vectors, max_len, unk_token='<unk>'):\n",
    "        \"\"\"\n",
    "        文本数据集类\n",
    "        :param texts: 文本数据列表，每个元素是一个词索引列表。\n",
    "        :param labels: 标签列表，与 texts 中的文本一一对应。\n",
    "        :param word_vectors: 词向量对象，包含词汇表和对应的词向量。\n",
    "        :param max_len: 每个文本的最大长度，用于填充或截断文本。\n",
    "        :param unk_token: 未知词标记，默认为 '<unk>'.\n",
    "        \"\"\"\n",
    "        self.labels = labels\n",
    "        self.word_vectors = word_vectors\n",
    "        self.unk_token = unk_token\n",
    "        self.max_len = max_len\n",
    "\n",
    "        # 确保 <unk> 和 [PAD] 已经存在于 word_vectors 中\n",
    "        assert '<unk>' in self.word_vectors.key_to_index, \"Vocabulary does not contain '<unk>' token.\"\n",
    "        assert '[PAD]' in self.word_vectors.key_to_index, \"Vocabulary does not contain '[PAD]' token.\"\n",
    "\n",
    "        # 填充或截断文本\n",
    "        self.text = [self.pad_text(text, max_len) for text in texts]\n",
    "\n",
    "    def pad_text(self, text, max_len):\n",
    "        \"\"\"\n",
    "        填充或截断文本以匹配指定的最大长度\n",
    "        :param text: 文本数据列表，每个元素是一个词索引列表。\n",
    "        :param max_len: 每个文本的最大长度，用于填充或截断文本。\n",
    "        \"\"\"\n",
    "        if not isinstance(text, list):\n",
    "            raise ValueError(\"Expected a list of integers as input.\")\n",
    "\n",
    "        padded = text[:max_len]  # 截取前 max_len 个元素\n",
    "        padding_needed = max_len - len(padded)\n",
    "        if padding_needed > 0:\n",
    "            padded.extend([self.word_vectors.key_to_index.get('[PAD]', 0)] * padding_needed)  # 使用[PAD]索引填充\n",
    "        return padded\n",
    "\n",
    "    def __len__(self):\n",
    "        \"\"\"返回数据集中样本的数量\"\"\"\n",
    "        return len(self.labels)\n",
    "\n",
    "    def __getitem__(self, index):\n",
    "        \"\"\"\n",
    "        获取指定索引的数据\n",
    "        :param index: 数据索引。\n",
    "        :return: 一个元组，包含文本数据和对应的标签。\n",
    "        \"\"\"\n",
    "        text_tensor = torch.tensor(self.text[index], dtype=torch.long)  # 只传递词索引\n",
    "        label_tensor = torch.tensor(self.labels[index], dtype=torch.long)\n",
    "        return text_tensor, label_tensor"
   ],
   "id": "31a0557949a5765d",
   "outputs": [],
   "execution_count": 3
  },
  {
   "metadata": {
    "ExecuteTime": {
     "end_time": "2025-01-24T00:48:17.777640Z",
     "start_time": "2025-01-24T00:48:17.773637Z"
    }
   },
   "cell_type": "code",
   "source": [
    "class BiLSTM(nn.Module):\n",
    "    def __init__(self, vocab_size,embedding_dim, hidden_dim, output_dim, num_layers, dropout,):\n",
    "        \"\"\"\n",
    "        双向LSTM模型\n",
    "        :param vocab_size: 词汇表大小。\n",
    "        :param embedding_dim: 词嵌入维度。\n",
    "        :param hidden_dim: LSTM隐藏层维度。\n",
    "        :param output_dim: 输出维度。\n",
    "        :param num_layers: LSTM层数。\n",
    "        :param dropout: 丢弃率。\n",
    "        \"\"\"\n",
    "        super(BiLSTM, self).__init__()\n",
    "        self.embedding = nn.Embedding(vocab_size, embedding_dim, padding_idx=0)\n",
    "        self.lstm = nn.LSTM(embedding_dim, hidden_dim, num_layers, bidirectional=True, batch_first=True,dropout=dropout if num_layers > 1 else 0)\n",
    "        # 双向的LSTM，所以hidden_dim*2\n",
    "        self.fc=nn.Linear(hidden_dim*2, output_dim)\n",
    "        self.dropout = nn.Dropout(dropout)\n",
    "\n",
    "    def forward(self, x):\n",
    "        embedded = self.dropout(self.embedding(x))\n",
    "        lstm_out, (hidden,cell) = self.lstm(embedded)\n",
    "        #合并双向LSTM的最后一个时间步的隐藏状态\n",
    "        # 如果num_layers > 1，则取最后一层的隐藏状态\n",
    "        hidden = torch.cat((hidden[-2,:,:], hidden[-1,:,:]),dim=1)\n",
    "        out = self.fc(hidden)\n",
    "        return out"
   ],
   "id": "c9aed54a545cd0b0",
   "outputs": [],
   "execution_count": 4
  },
  {
   "metadata": {
    "ExecuteTime": {
     "end_time": "2025-01-24T04:47:51.143028Z",
     "start_time": "2025-01-24T04:47:51.139356Z"
    }
   },
   "cell_type": "code",
   "source": [
    "class BiGRU(nn.Module):\n",
    "    def __init__(self, vocab_size, embedding_dim, hidden_dim, output_dim, num_layers, dropout):\n",
    "        \"\"\"\n",
    "        双向GRU模型\n",
    "        :param vocab_size: 词汇表大小。\n",
    "        :param embedding_dim: 词嵌入维度。\n",
    "        :param hidden_dim: GRU隐藏层维度。\n",
    "        :param output_dim: 输出维度。\n",
    "        :param num_layers: GRU层数。\n",
    "        :param dropout: 丢弃率。\n",
    "        \"\"\"\n",
    "        super(BiGRU, self).__init__()\n",
    "        self.embedding = nn.Embedding(vocab_size, embedding_dim, padding_idx=0)\n",
    "        # 使用 GRU 替换 LSTM，并保持其他参数相同\n",
    "        self.gru = nn.GRU(embedding_dim, hidden_dim, num_layers, bidirectional=True, batch_first=True, dropout=dropout if num_layers > 1 else 0)\n",
    "        # 双向的GRU，所以hidden_dim*2\n",
    "        self.fc = nn.Linear(hidden_dim * 2, output_dim)\n",
    "        self.dropout = nn.Dropout(dropout)\n",
    "\n",
    "    def forward(self, x):\n",
    "        embedded = self.dropout(self.embedding(x))\n",
    "        gru_out, hidden = self.gru(embedded)\n",
    "        # 合并双向GRU的最后一个时间步的隐藏状态\n",
    "        # 如果num_layers > 1，则取最后一层的隐藏状态\n",
    "        # 注意：GRU 的 hidden 状态形状为 (num_layers * num_directions, batch, hidden_size)\n",
    "        hidden = torch.cat((hidden[-2,:,:], hidden[-1,:,:]), dim=1)  # 取最后两层的隐藏状态并连接\n",
    "        out = self.fc(hidden)\n",
    "        return out"
   ],
   "id": "f15fcfa1a06c0bba",
   "outputs": [],
   "execution_count": 4
  },
  {
   "metadata": {
    "ExecuteTime": {
     "end_time": "2025-01-24T04:47:52.213969Z",
     "start_time": "2025-01-24T04:47:52.208836Z"
    }
   },
   "cell_type": "code",
   "source": [
    "import logging\n",
    "import time\n",
    "\n",
    "def train_model(model, dataloader, criterion, optimizer, num_epochs, scheduler=None, early_stopping_patience=3):\n",
    "    \"\"\"\n",
    "    训练模型，包含提前停止机制\n",
    "    :param model: 模型。\n",
    "    :param dataloader: 数据加载器。\n",
    "    :param criterion: 损失函数。\n",
    "    :param optimizer: 优化器。\n",
    "    :param num_epochs: 训练轮数。\n",
    "    :param scheduler: 学习率调度器，默认为 None。\n",
    "    :param early_stopping_patience: 提前停止的耐心值，默认为 3。\n",
    "    :return: 训练后的模型和包含训练历史记录的字典。\n",
    "    \"\"\"\n",
    "    device = torch.device(\"cuda\" if torch.cuda.is_available() else \"cpu\")\n",
    "    model.to(device)\n",
    "    history = {'train_loss': [], 'val_loss': [], 'train_acc': [], 'val_acc': []}\n",
    "\n",
    "    best_val_loss = float('inf')\n",
    "    epochs_no_improve = 0\n",
    "\n",
    "    for epoch in range(num_epochs):\n",
    "        logging.info(f'Epoch {epoch+1}/{num_epochs}')\n",
    "        logging.info('-' * 10)\n",
    "\n",
    "        start_time = time.time()\n",
    "\n",
    "        for phase in ['train', 'val']:\n",
    "            if phase == 'train':\n",
    "                model.train()\n",
    "            else:\n",
    "                model.eval()\n",
    "\n",
    "            running_loss = 0.0\n",
    "            running_corrects = 0\n",
    "\n",
    "            for inputs, labels in dataloader[phase]:\n",
    "                inputs = inputs.to(device)\n",
    "                labels = labels.to(device)\n",
    "\n",
    "                optimizer.zero_grad()\n",
    "\n",
    "                with torch.set_grad_enabled(phase == 'train'):\n",
    "                    outputs = model(inputs)\n",
    "                    _, preds = torch.max(outputs, 1)\n",
    "                    loss = criterion(outputs, labels)\n",
    "\n",
    "                    if phase == 'train':\n",
    "                        loss.backward()\n",
    "                        optimizer.step()\n",
    "\n",
    "                running_loss += loss.item() * inputs.size(0)\n",
    "                running_corrects += torch.sum(preds == labels.data)\n",
    "\n",
    "            epoch_loss = running_loss / len(dataloader[phase].dataset)\n",
    "            epoch_acc = running_corrects.double() / len(dataloader[phase].dataset)\n",
    "\n",
    "            logging.info('{} Loss: {:.4f} Acc: {:.4f}'.format(phase, epoch_loss, epoch_acc))\n",
    "\n",
    "            history[f'{phase}_loss'].append(epoch_loss)\n",
    "            history[f'{phase}_acc'].append(epoch_acc.cpu().item())\n",
    "\n",
    "            # 使用验证集上的损失更新学习率并检查提前停止条件\n",
    "            if phase == 'val':\n",
    "                if scheduler:\n",
    "                    scheduler.step(epoch_loss)\n",
    "\n",
    "                # 更新最佳验证损失\n",
    "                if epoch_loss < best_val_loss:\n",
    "                    best_val_loss = epoch_loss\n",
    "                    epochs_no_improve = 0\n",
    "                    # 你可以选择在这里保存最佳模型\n",
    "                else:\n",
    "                    epochs_no_improve += 1\n",
    "                    logging.info(f'Validation loss did not improve for {epochs_no_improve} epochs.')\n",
    "\n",
    "                    if epochs_no_improve >= early_stopping_patience:\n",
    "                        logging.info(\"Early stopping triggered.\")\n",
    "                        return model, history\n",
    "\n",
    "        end_time = time.time()\n",
    "        logging.info(f'Epoch {epoch+1} completed in {(end_time - start_time):.2f}s')\n",
    "\n",
    "    return model, history"
   ],
   "id": "e0caef98af70245a",
   "outputs": [],
   "execution_count": 5
  },
  {
   "metadata": {
    "ExecuteTime": {
     "end_time": "2025-01-24T04:47:55.122977Z",
     "start_time": "2025-01-24T04:47:55.119527Z"
    }
   },
   "cell_type": "code",
   "source": [
    "def plot_train_history(history):\n",
    "    \"\"\"\n",
    "    绘制训练和验证损失及准确率随时间的变化图\n",
    "    \"\"\"\n",
    "    epochs = range(1, len(history['train_loss']) + 1)\n",
    "\n",
    "    fig, (ax1, ax2) = plt.subplots(1, 2, figsize=(16, 6))\n",
    "\n",
    "    # 绘制损失变化\n",
    "    ax1.plot(epochs, history['train_loss'], label='Train Loss', marker='o')\n",
    "    ax1.plot(epochs, history['val_loss'], label='Validation Loss', marker='o')\n",
    "    ax1.set_title('Model Loss')\n",
    "    ax1.set_xlabel('Epoch')\n",
    "    ax1.set_ylabel('Loss')\n",
    "    ax1.legend(loc='upper right')\n",
    "\n",
    "    # 绘制准确率变化\n",
    "    ax2.plot(epochs, [acc * 100 for acc in history['train_acc']], label='Train Accuracy', marker='o')\n",
    "    ax2.plot(epochs, [acc * 100 for acc in history['val_acc']], label='Validation Accuracy', marker='o')\n",
    "    ax2.set_title('Model Accuracy')\n",
    "    ax2.set_xlabel('Epoch')\n",
    "    ax2.set_ylabel('Accuracy (%)')\n",
    "    ax2.legend(loc='lower right')\n",
    "\n",
    "    plt.tight_layout()\n",
    "    plt.show()"
   ],
   "id": "b233fe4130c32d11",
   "outputs": [],
   "execution_count": 6
  },
  {
   "metadata": {
    "ExecuteTime": {
     "end_time": "2025-01-24T04:48:00.614092Z",
     "start_time": "2025-01-24T04:47:56.818132Z"
    }
   },
   "cell_type": "code",
   "source": [
    "#载入数据\n",
    "data_file = './data/train_set.csv'\n",
    "data = pd.read_csv(data_file,sep='\\t')\n",
    "labels = data['label'].values\n",
    "texts = data['text'].values"
   ],
   "id": "a1a572a2e387bb06",
   "outputs": [],
   "execution_count": 7
  },
  {
   "metadata": {
    "ExecuteTime": {
     "end_time": "2025-01-24T04:48:00.619091Z",
     "start_time": "2025-01-24T04:48:00.616091Z"
    }
   },
   "cell_type": "code",
   "source": [
    "def text_to_int(text, vocab, max_len):\n",
    "    int_list = [vocab.get(word, vocab['<unk>']) for word in text.split()]\n",
    "    padded = int_list[:max_len]\n",
    "    padding_needed = max_len - len(padded)\n",
    "    if padding_needed > 0:\n",
    "        padded.extend([vocab['[PAD]']] * padding_needed)\n",
    "    return padded"
   ],
   "id": "52e55840024126c",
   "outputs": [],
   "execution_count": 8
  },
  {
   "metadata": {
    "ExecuteTime": {
     "end_time": "2025-01-24T04:48:20.039234Z",
     "start_time": "2025-01-24T04:48:00.636496Z"
    }
   },
   "cell_type": "code",
   "source": [
    "#将文本转换为整数列表\n",
    "texts_as_int_lists = [text_to_int(text, vocab, max_len=3000) for text in texts]"
   ],
   "id": "7e3a8284af6713b4",
   "outputs": [],
   "execution_count": 9
  },
  {
   "metadata": {
    "ExecuteTime": {
     "end_time": "2025-01-24T04:48:28.074370Z",
     "start_time": "2025-01-24T04:48:20.060351Z"
    }
   },
   "cell_type": "code",
   "source": [
    "#分割数据集为训练集和验证集\n",
    "X_train,X_test,y_train,y_test = train_test_split(texts_as_int_lists,labels,test_size=0.2,random_state=42)\n",
    "\n",
    "#创建数据集对象\n",
    "train_dataset = TextDataset(X_train,y_train,word_vectors,max_len=3000)\n",
    "test_dataset = TextDataset(X_test,y_test,word_vectors,max_len=3000)\n",
    "\n",
    "#创建数据加载器\n",
    "dataloaders = {\n",
    "    'train': DataLoader(train_dataset,batch_size=64,shuffle=True),\n",
    "    'val': DataLoader(test_dataset,batch_size=64,shuffle=False)\n",
    "}"
   ],
   "id": "d2a05ee7cef25085",
   "outputs": [],
   "execution_count": 10
  },
  {
   "metadata": {
    "ExecuteTime": {
     "end_time": "2025-01-24T01:29:40.439795Z",
     "start_time": "2025-01-24T01:29:40.422031Z"
    }
   },
   "cell_type": "code",
   "source": [
    "device = torch.device(\"cuda\" if torch.cuda.is_available() else \"cpu\")\n",
    "# 初始化模型、损失函数和优化器\n",
    "hidden_dim = 128  # LSTM 隐藏层维度\n",
    "output_dim = 14  # 类别数量\n",
    "model = BiLSTM(\n",
    "    vocab_size=len(vocab),\n",
    "    embedding_dim=embedding_dim,\n",
    "    hidden_dim=hidden_dim,\n",
    "    output_dim=output_dim,\n",
    "    num_layers=2,  # 使用两层LSTM\n",
    "    dropout=0.2\n",
    ").to(device)\n",
    "\n",
    "criterion = nn.CrossEntropyLoss()\n",
    "optimizer = optim.Adam(model.parameters(), lr=0.001,weight_decay=1e-5)"
   ],
   "id": "73234a23a4cf6021",
   "outputs": [],
   "execution_count": 26
  },
  {
   "metadata": {
    "ExecuteTime": {
     "end_time": "2025-01-24T04:48:31.254233Z",
     "start_time": "2025-01-24T04:48:31.243680Z"
    }
   },
   "cell_type": "code",
   "source": [
    "device = torch.device(\"cuda\" if torch.cuda.is_available() else \"cpu\")\n",
    "# 初始化模型、损失函数和优化器\n",
    "hidden_dim = 128  # LSTM 隐藏层维度\n",
    "output_dim = 14  # 类别数量\n",
    "model = BiGRU(\n",
    "    vocab_size=len(vocab),\n",
    "    embedding_dim=embedding_dim,\n",
    "    hidden_dim=hidden_dim,\n",
    "    output_dim=output_dim,\n",
    "    num_layers=2,  # 使用两层LSTM\n",
    "    dropout=0.2\n",
    ").to(device)\n",
    "\n",
    "criterion = nn.CrossEntropyLoss()\n",
    "optimizer = optim.Adam(model.parameters(), lr=0.001,weight_decay=1e-5)"
   ],
   "id": "5d3db20ad26abd3d",
   "outputs": [],
   "execution_count": 12
  },
  {
   "metadata": {
    "ExecuteTime": {
     "end_time": "2025-01-24T02:17:06.936685Z",
     "start_time": "2025-01-24T01:29:55.901417Z"
    }
   },
   "cell_type": "code",
   "source": [
    "#开始训练模型\n",
    "trained_model, history = train_model(model,dataloaders,criterion,optimizer,num_epochs=12)"
   ],
   "id": "5c4ed4ee1901a1a8",
   "outputs": [
    {
     "name": "stderr",
     "output_type": "stream",
     "text": [
      "2025-01-24 09:29:55,904 INFO: Epoch 1/12\n",
      "2025-01-24 09:29:55,904 INFO: ----------\n",
      "2025-01-24 09:33:29,358 INFO: train Loss: 0.6169 Acc: 0.8155\n",
      "2025-01-24 09:33:51,704 INFO: val Loss: 0.3345 Acc: 0.8993\n",
      "2025-01-24 09:33:51,705 INFO: Epoch 2/12\n",
      "2025-01-24 09:33:51,705 INFO: ----------\n",
      "2025-01-24 09:37:26,133 INFO: train Loss: 0.3392 Acc: 0.8991\n",
      "2025-01-24 09:37:48,496 INFO: val Loss: 0.2616 Acc: 0.9213\n",
      "2025-01-24 09:37:48,497 INFO: Epoch 3/12\n",
      "2025-01-24 09:37:48,497 INFO: ----------\n",
      "2025-01-24 09:41:21,898 INFO: train Loss: 0.2321 Acc: 0.9293\n",
      "2025-01-24 09:41:44,254 INFO: val Loss: 0.2057 Acc: 0.9368\n",
      "2025-01-24 09:41:44,255 INFO: Epoch 4/12\n",
      "2025-01-24 09:41:44,255 INFO: ----------\n",
      "2025-01-24 09:45:18,078 INFO: train Loss: 0.1735 Acc: 0.9466\n",
      "2025-01-24 09:45:40,492 INFO: val Loss: 0.1812 Acc: 0.9447\n",
      "2025-01-24 09:45:40,492 INFO: Epoch 5/12\n",
      "2025-01-24 09:45:40,493 INFO: ----------\n",
      "2025-01-24 09:49:14,163 INFO: train Loss: 0.1421 Acc: 0.9558\n",
      "2025-01-24 09:49:36,524 INFO: val Loss: 0.1652 Acc: 0.9487\n",
      "2025-01-24 09:49:36,524 INFO: Epoch 6/12\n",
      "2025-01-24 09:49:36,525 INFO: ----------\n",
      "2025-01-24 09:53:10,022 INFO: train Loss: 0.1214 Acc: 0.9610\n",
      "2025-01-24 09:53:32,432 INFO: val Loss: 0.1596 Acc: 0.9517\n",
      "2025-01-24 09:53:32,432 INFO: Epoch 7/12\n",
      "2025-01-24 09:53:32,432 INFO: ----------\n",
      "2025-01-24 09:57:05,261 INFO: train Loss: 0.1058 Acc: 0.9652\n",
      "2025-01-24 09:57:27,544 INFO: val Loss: 0.1519 Acc: 0.9532\n",
      "2025-01-24 09:57:27,545 INFO: Epoch 8/12\n",
      "2025-01-24 09:57:27,545 INFO: ----------\n",
      "2025-01-24 10:01:01,204 INFO: train Loss: 0.0908 Acc: 0.9702\n",
      "2025-01-24 10:01:23,630 INFO: val Loss: 0.1458 Acc: 0.9561\n",
      "2025-01-24 10:01:23,631 INFO: Epoch 9/12\n",
      "2025-01-24 10:01:23,631 INFO: ----------\n",
      "2025-01-24 10:04:56,946 INFO: train Loss: 0.0795 Acc: 0.9736\n",
      "2025-01-24 10:05:19,221 INFO: val Loss: 0.1515 Acc: 0.9544\n",
      "2025-01-24 10:05:19,222 INFO: Epoch 10/12\n",
      "2025-01-24 10:05:19,222 INFO: ----------\n",
      "2025-01-24 10:08:52,908 INFO: train Loss: 0.0706 Acc: 0.9759\n",
      "2025-01-24 10:09:15,251 INFO: val Loss: 0.1572 Acc: 0.9536\n",
      "2025-01-24 10:09:15,252 INFO: Epoch 11/12\n",
      "2025-01-24 10:09:15,252 INFO: ----------\n",
      "2025-01-24 10:12:49,062 INFO: train Loss: 0.0637 Acc: 0.9785\n",
      "2025-01-24 10:13:11,451 INFO: val Loss: 0.1539 Acc: 0.9553\n",
      "2025-01-24 10:13:11,451 INFO: Epoch 12/12\n",
      "2025-01-24 10:13:11,452 INFO: ----------\n",
      "2025-01-24 10:16:44,556 INFO: train Loss: 0.0571 Acc: 0.9810\n",
      "2025-01-24 10:17:06,934 INFO: val Loss: 0.1595 Acc: 0.9551\n"
     ]
    }
   ],
   "execution_count": 28
  },
  {
   "metadata": {
    "ExecuteTime": {
     "end_time": "2025-01-24T05:10:12.644183Z",
     "start_time": "2025-01-24T04:48:38.136730Z"
    }
   },
   "cell_type": "code",
   "source": [
    "#开始训练模型\n",
    "trained_model, history = train_model(model,dataloaders,criterion,optimizer,num_epochs=12)"
   ],
   "id": "567a120f8c8d8fed",
   "outputs": [
    {
     "name": "stderr",
     "output_type": "stream",
     "text": [
      "2025-01-24 12:48:38,138 INFO: Epoch 1/12\n",
      "2025-01-24 12:48:38,139 INFO: ----------\n",
      "2025-01-24 12:51:06,248 INFO: train Loss: 0.4054 Acc: 0.8766\n",
      "2025-01-24 12:51:20,934 INFO: val Loss: 0.2039 Acc: 0.9376\n",
      "2025-01-24 12:51:20,934 INFO: Epoch 1 completed in 162.79s\n",
      "2025-01-24 12:51:20,935 INFO: Epoch 2/12\n",
      "2025-01-24 12:51:20,935 INFO: ----------\n",
      "2025-01-24 12:53:48,128 INFO: train Loss: 0.1609 Acc: 0.9493\n",
      "2025-01-24 12:54:02,822 INFO: val Loss: 0.1580 Acc: 0.9505\n",
      "2025-01-24 12:54:02,822 INFO: Epoch 2 completed in 161.89s\n",
      "2025-01-24 12:54:02,823 INFO: Epoch 3/12\n",
      "2025-01-24 12:54:02,823 INFO: ----------\n",
      "2025-01-24 12:56:30,210 INFO: train Loss: 0.1265 Acc: 0.9597\n",
      "2025-01-24 12:56:44,826 INFO: val Loss: 0.1548 Acc: 0.9526\n",
      "2025-01-24 12:56:44,827 INFO: Epoch 3 completed in 162.00s\n",
      "2025-01-24 12:56:44,827 INFO: Epoch 4/12\n",
      "2025-01-24 12:56:44,828 INFO: ----------\n",
      "2025-01-24 12:59:12,095 INFO: train Loss: 0.1035 Acc: 0.9662\n",
      "2025-01-24 12:59:26,749 INFO: val Loss: 0.1536 Acc: 0.9541\n",
      "2025-01-24 12:59:26,749 INFO: Epoch 4 completed in 161.92s\n",
      "2025-01-24 12:59:26,749 INFO: Epoch 5/12\n",
      "2025-01-24 12:59:26,750 INFO: ----------\n",
      "2025-01-24 13:01:53,695 INFO: train Loss: 0.0877 Acc: 0.9711\n",
      "2025-01-24 13:02:08,340 INFO: val Loss: 0.1448 Acc: 0.9575\n",
      "2025-01-24 13:02:08,340 INFO: Epoch 5 completed in 161.59s\n",
      "2025-01-24 13:02:08,341 INFO: Epoch 6/12\n",
      "2025-01-24 13:02:08,341 INFO: ----------\n",
      "2025-01-24 13:04:35,447 INFO: train Loss: 0.0747 Acc: 0.9748\n",
      "2025-01-24 13:04:50,088 INFO: val Loss: 0.1478 Acc: 0.9572\n",
      "2025-01-24 13:04:50,089 INFO: Validation loss did not improve for 1 epochs.\n",
      "2025-01-24 13:04:50,089 INFO: Epoch 6 completed in 161.75s\n",
      "2025-01-24 13:04:50,090 INFO: Epoch 7/12\n",
      "2025-01-24 13:04:50,090 INFO: ----------\n",
      "2025-01-24 13:07:16,477 INFO: train Loss: 0.0627 Acc: 0.9788\n",
      "2025-01-24 13:07:31,125 INFO: val Loss: 0.1579 Acc: 0.9564\n",
      "2025-01-24 13:07:31,126 INFO: Validation loss did not improve for 2 epochs.\n",
      "2025-01-24 13:07:31,126 INFO: Epoch 7 completed in 161.04s\n",
      "2025-01-24 13:07:31,126 INFO: Epoch 8/12\n",
      "2025-01-24 13:07:31,127 INFO: ----------\n",
      "2025-01-24 13:09:58,031 INFO: train Loss: 0.0552 Acc: 0.9811\n",
      "2025-01-24 13:10:12,641 INFO: val Loss: 0.1635 Acc: 0.9555\n",
      "2025-01-24 13:10:12,641 INFO: Validation loss did not improve for 3 epochs.\n",
      "2025-01-24 13:10:12,641 INFO: Early stopping triggered.\n"
     ]
    }
   ],
   "execution_count": 13
  },
  {
   "metadata": {
    "ExecuteTime": {
     "end_time": "2025-01-24T05:53:29.017655Z",
     "start_time": "2025-01-24T05:53:28.870464Z"
    }
   },
   "cell_type": "code",
   "source": "plot_train_history(history)",
   "id": "945cc12d0c81b886",
   "outputs": [
    {
     "data": {
      "text/plain": [
       "<Figure size 1600x600 with 2 Axes>"
      ],
      "image/png": "[encoded data removed]"
     },
     "metadata": {},
     "output_type": "display_data"
    }
   ],
   "execution_count": 21
  },
  {
   "metadata": {
    "ExecuteTime": {
     "end_time": "2025-01-24T05:10:12.844230Z",
     "start_time": "2025-01-24T05:10:12.833935Z"
    }
   },
   "cell_type": "code",
   "source": [
    "#保存模型\n",
    "# 保存模型参数到文件\n",
    "torch.save(trained_model.state_dict(), 'models/word2vec_RNN_BiGRU.pth')"
   ],
   "id": "1db4e0ed54b04e20",
   "outputs": [],
   "execution_count": 15
  },
  {
   "metadata": {
    "ExecuteTime": {
     "end_time": "2025-01-24T05:10:12.908862Z",
     "start_time": "2025-01-24T05:10:12.892861Z"
    }
   },
   "cell_type": "code",
   "source": [
    "# 设定设备\n",
    "device = torch.device(\"cuda\" if torch.cuda.is_available() else \"cpu\")\n",
    "\n",
    "# 加载模型的状态字典\n",
    "# 首先创建一个与原模型架构相同的实例\n",
    "model = BiGRU(\n",
    "    vocab_size=len(vocab),\n",
    "    embedding_dim=embedding_dim,\n",
    "    hidden_dim=hidden_dim,\n",
    "    output_dim=output_dim,\n",
    "    num_layers=2,  # 使用两层LSTM\n",
    "    dropout=0.2\n",
    ")\n",
    "\n",
    "# 然后加载状态字典\n",
    "model.load_state_dict(torch.load('models/word2vec_RNN_BiGRU.pth', map_location=device,weights_only=True))\n",
    "model.to(device)  # 将模型移动到相应的设备上\n",
    "model.eval()  # 切换到评估模式"
   ],
   "id": "f562ed38226d8a5e",
   "outputs": [
    {
     "data": {
      "text/plain": [
       "BiGRU(\n",
       "  (embedding): Embedding(5973, 200, padding_idx=0)\n",
       "  (gru): GRU(200, 128, num_layers=2, batch_first=True, dropout=0.2, bidirectional=True)\n",
       "  (fc): Linear(in_features=256, out_features=14, bias=True)\n",
       "  (dropout): Dropout(p=0.2, inplace=False)\n",
       ")"
      ]
     },
     "execution_count": 16,
     "metadata": {},
     "output_type": "execute_result"
    }
   ],
   "execution_count": 16
  },
  {
   "metadata": {
    "ExecuteTime": {
     "end_time": "2025-01-24T05:10:21.823969Z",
     "start_time": "2025-01-24T05:10:12.910857Z"
    }
   },
   "cell_type": "code",
   "source": [
    "#构造测试数据集\n",
    "test_data_file = './data/test_a.csv'\n",
    "test_data = pd.read_csv(test_data_file,sep='\\t')\n",
    "test_texts = test_data['text'].values\n",
    "test_texts_as_int_lists = [text_to_int(text, vocab, max_len=3000) for text in test_texts]\n",
    "test_dataset = TextDataset(test_texts_as_int_lists, [0] * len(test_texts_as_int_lists), word_vectors, max_len=900)\n",
    "test_dataloader = DataLoader(test_dataset, batch_size=64, shuffle=False)"
   ],
   "id": "57d97e1a57b17c08",
   "outputs": [],
   "execution_count": 17
  },
  {
   "metadata": {
    "ExecuteTime": {
     "end_time": "2025-01-24T05:10:21.860155Z",
     "start_time": "2025-01-24T05:10:21.856690Z"
    }
   },
   "cell_type": "code",
   "source": [
    "#预测新数据\n",
    "def predict(model, dataloader):\n",
    "    device = torch.device(\"cuda\" if torch.cuda.is_available() else \"cpu\")\n",
    "    model.to(device)  # 将模型移动到相应的设备\n",
    "    model.eval()      # 切换到评估模式\n",
    "    predictions = []\n",
    "    with torch.no_grad():\n",
    "        for inputs, _ in dataloader:  # 假设新数据没有标签\n",
    "            inputs = inputs.to(device) # 将数据移动到相应的设备\n",
    "            outputs = model(inputs)\n",
    "            # 对于分类任务，通常会使用softmax函数将输出转换为概率分布，然后选择具有最高概率的类别作为预测结果。直接使用torch.max函数获取每行的最大值及其索引。只关心类别索引（预测标签），所以第二个返回值preds就是需要的结果\n",
    "            _, preds = torch.max(outputs, 1)\n",
    "            # # 将预测结果从PyTorch张量转换为NumPy数组，并添加到predictions列表中。.cpu()方法确保即使原始张量位于GPU上，也可以安全地转换为NumPy格式。\n",
    "            predictions.extend(preds.cpu().numpy())\n",
    "    return predictions"
   ],
   "id": "5697d0e80d34e7a4",
   "outputs": [],
   "execution_count": 18
  },
  {
   "metadata": {
    "ExecuteTime": {
     "end_time": "2025-01-24T05:10:27.898628Z",
     "start_time": "2025-01-24T05:10:21.891615Z"
    }
   },
   "cell_type": "code",
   "source": "predictions = predict(model, test_dataloader)",
   "id": "17e5e618e7cae51",
   "outputs": [],
   "execution_count": 19
  },
  {
   "metadata": {
    "ExecuteTime": {
     "end_time": "2025-01-24T05:10:28.039167Z",
     "start_time": "2025-01-24T05:10:27.929629Z"
    }
   },
   "cell_type": "code",
   "source": "pd.DataFrame(predictions,columns=['label']).to_csv('models/word2vec_textRNN_submit.csv', index=False)",
   "id": "77e989d0798adcb5",
   "outputs": [],
   "execution_count": 20
  },
  {
   "metadata": {},
   "cell_type": "code",
   "outputs": [],
   "execution_count": null,
   "source": "",
   "id": "35148ebf2d6d5d82"
  }
 ],
 "metadata": {
  "kernelspec": {
   "display_name": "Python 3",
   "language": "python",
   "name": "python3"
  },
  "language_info": {
   "codemirror_mode": {
    "name": "ipython",
    "version": 2
   },
   "file_extension": ".py",
   "mimetype": "text/x-python",
   "name": "python",
   "nbconvert_exporter": "python",
   "pygments_lexer": "ipython2",
   "version": "2.7.6"
  }
 },
 "nbformat": 4,
 "nbformat_minor": 5
}
