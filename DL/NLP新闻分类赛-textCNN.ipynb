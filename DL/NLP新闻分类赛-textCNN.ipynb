{
 "cells": [
  {
   "cell_type": "code",
   "id": "initial_id",
   "metadata": {
    "collapsed": true,
    "ExecuteTime": {
     "end_time": "2025-01-22T15:32:59.974648Z",
     "start_time": "2025-01-22T15:32:57.749384Z"
    }
   },
   "source": [
    "import torch\n",
    "import torch.nn as nn\n",
    "import torch.optim as optim\n",
    "from torch.utils.data import DataLoader, Dataset\n",
    "import torch.nn.functional as F\n",
    "import matplotlib.pyplot as plt\n",
    "from sklearn.model_selection import train_test_split\n",
    "import numpy as np\n",
    "import logging\n",
    "import pandas as pd\n",
    "import gensim\n",
    "from gensim.models import KeyedVectors\n",
    "\n",
    "logging.basicConfig(level=logging.INFO, format='%(asctime)-15s %(levelname)s: %(message)s')"
   ],
   "outputs": [],
   "execution_count": 1
  },
  {
   "metadata": {
    "ExecuteTime": {
     "end_time": "2025-01-22T15:33:00.387329Z",
     "start_time": "2025-01-22T15:32:59.982651Z"
    }
   },
   "cell_type": "code",
   "source": [
    "# 预训练的词向量文件路径\n",
    "vec_path = \"word2vec.txt\"  # 替换为实际路径\n",
    "# 加载词向量文件\n",
    "word_vectors = gensim.models.KeyedVectors.load_word2vec_format(vec_path, binary=False)"
   ],
   "id": "f55657b3e4e49c4c",
   "outputs": [
    {
     "name": "stderr",
     "output_type": "stream",
     "text": [
      "2025-01-22 23:32:59,983 INFO: loading projection weights from word2vec.txt\n",
      "2025-01-22 23:33:00,385 INFO: KeyedVectors lifecycle event {'msg': 'loaded (5971, 200) matrix of type float32 from word2vec.txt', 'binary': False, 'encoding': 'utf8', 'datetime': '2025-01-22T23:33:00.385240', 'gensim': '4.3.3', 'python': '3.12.8 | packaged by Anaconda, Inc. | (main, Dec 11 2024, 16:48:34) [MSC v.1929 64 bit (AMD64)]', 'platform': 'Windows-10-10.0.19045-SP0', 'event': 'load_word2vec_format'}\n"
     ]
    }
   ],
   "execution_count": 2
  },
  {
   "metadata": {
    "ExecuteTime": {
     "end_time": "2025-01-22T15:33:00.521553Z",
     "start_time": "2025-01-22T15:33:00.515663Z"
    }
   },
   "cell_type": "code",
   "source": [
    "# 获取原始词向量的维度\n",
    "embedding_dim = word_vectors.vector_size\n",
    "\n",
    "# 初始化词汇表，包含特殊标记\n",
    "vocab = {'<unk>': 0, '[PAD]': 1}  # <unk> 和 [PAD] 的索引分别为 0 和 1\n",
    "\n",
    "# 将原始词向量添加到词汇表中\n",
    "for idx, word in enumerate(word_vectors.index_to_key, start=len(vocab)):\n",
    "    vocab[word] = idx\n",
    "\n",
    "# 更新 word_vectors，确保包含特殊标记\n",
    "special_tokens = {'<unk>': np.random.uniform(-0.25, 0.25, embedding_dim),\n",
    "                  '[PAD]': np.zeros(embedding_dim)}\n",
    "\n",
    "for token, vector in special_tokens.items():\n",
    "    if token not in word_vectors:\n",
    "        word_vectors.add_vector(token, vector)\n",
    "\n",
    "print(\"Vocabulary size:\", len(vocab))"
   ],
   "id": "f29f862aa4870588",
   "outputs": [
    {
     "name": "stdout",
     "output_type": "stream",
     "text": [
      "Vocabulary size: 5973\n"
     ]
    },
    {
     "name": "stderr",
     "output_type": "stream",
     "text": [
      "E:\\miniconda3\\Lib\\site-packages\\gensim\\models\\keyedvectors.py:551: UserWarning: Adding single vectors to a KeyedVectors which grows by one each time can be costly. Consider adding in batches or preallocating to the required size.\n",
      "  warnings.warn(\n"
     ]
    }
   ],
   "execution_count": 3
  },
  {
   "metadata": {
    "ExecuteTime": {
     "end_time": "2025-01-22T15:33:02.880384Z",
     "start_time": "2025-01-22T15:33:02.876400Z"
    }
   },
   "cell_type": "code",
   "source": [
    "#数据集处理\n",
    "class TextDataset(Dataset):\n",
    "    def __init__(self, texts, labels, word_vectors, max_len, unk_token='<unk>'):\n",
    "        \"\"\"\n",
    "        文本数据集类\n",
    "        :param texts: 文本数据列表，每个元素是一个词索引列表。\n",
    "        :param labels: 标签列表，与 texts 中的文本一一对应。\n",
    "        :param word_vectors: 词向量对象，包含词汇表和对应的词向量。\n",
    "        :param max_len: 每个文本的最大长度，用于填充或截断文本。\n",
    "        :param unk_token: 未知词标记，默认为 '<unk>'.\n",
    "        \"\"\"\n",
    "        self.labels = labels\n",
    "        self.word_vectors = word_vectors\n",
    "        self.unk_token = unk_token\n",
    "        self.max_len = max_len\n",
    "\n",
    "        # 确保 <unk> 和 [PAD] 已经存在于 word_vectors 中\n",
    "        assert '<unk>' in self.word_vectors.key_to_index, \"Vocabulary does not contain '<unk>' token.\"\n",
    "        assert '[PAD]' in self.word_vectors.key_to_index, \"Vocabulary does not contain '[PAD]' token.\"\n",
    "\n",
    "        # 填充或截断文本\n",
    "        self.text = [self.pad_text(text, max_len) for text in texts]\n",
    "\n",
    "    def pad_text(self, text, max_len):\n",
    "        \"\"\"\n",
    "        填充或截断文本以匹配指定的最大长度\n",
    "        :param text: 文本数据列表，每个元素是一个词索引列表。\n",
    "        :param max_len: 每个文本的最大长度，用于填充或截断文本。\n",
    "        \"\"\"\n",
    "        if not isinstance(text, list):\n",
    "            raise ValueError(\"Expected a list of integers as input.\")\n",
    "\n",
    "        padded = text[:max_len]  # 截取前 max_len 个元素\n",
    "        padding_needed = max_len - len(padded)\n",
    "        if padding_needed > 0:\n",
    "            padded.extend([self.word_vectors.key_to_index.get('[PAD]', 0)] * padding_needed)  # 使用[PAD]索引填充\n",
    "        return padded\n",
    "\n",
    "    def __len__(self):\n",
    "        \"\"\"返回数据集中样本的数量\"\"\"\n",
    "        return len(self.labels)\n",
    "\n",
    "    def __getitem__(self, index):\n",
    "        \"\"\"\n",
    "        获取指定索引的数据\n",
    "        :param index: 数据索引。\n",
    "        :return: 一个元组，包含文本数据和对应的标签。\n",
    "        \"\"\"\n",
    "        text_tensor = torch.tensor(self.text[index], dtype=torch.long)  # 只传递词索引\n",
    "        label_tensor = torch.tensor(self.labels[index], dtype=torch.long)\n",
    "        return text_tensor, label_tensor"
   ],
   "id": "6ab5511fc1191b2",
   "outputs": [],
   "execution_count": 4
  },
  {
   "metadata": {
    "ExecuteTime": {
     "end_time": "2025-01-22T15:33:26.856291Z",
     "start_time": "2025-01-22T15:33:26.852842Z"
    }
   },
   "cell_type": "code",
   "source": [
    "class TextCNN(nn.Module):\n",
    "    def __init__(self,vocab_size,embedding_dim,num_filters,filter_sizes,num_classes,dropout):\n",
    "        \"\"\"\n",
    "        文本分类模型\n",
    "        :param vocab_size: 词汇表大小。\n",
    "        :param embedding_dim: 嵌入维度。\n",
    "        :param num_filters: 卷积核数量。\n",
    "        :param filter_sizes: 卷积核大小列表。\n",
    "        :param num_classes: 分类类别数量。\n",
    "        :param dropout: 丢弃率。\n",
    "        \"\"\"\n",
    "        super(TextCNN,self).__init__()\n",
    "        self.embedding = nn.Embedding(num_embeddings=vocab_size, embedding_dim=embedding_dim) # 词嵌入层 #词嵌入层\n",
    "        self.convs = nn.ModuleList([nn.Conv2d(1,num_filters,(fs,embedding_dim)) for fs in filter_sizes]) #卷积层\n",
    "        self.dropout = nn.Dropout(dropout) #丢弃层\n",
    "        self.fc = nn.Linear(len(filter_sizes)*num_filters,num_classes) #全连接层\n",
    "\n",
    "    def forward(self,x):\n",
    "        \"\"\"\n",
    "        前向传播\n",
    "        :param x: 输入数据，形状为 (batch_size, seq_len)。\n",
    "        :return: 输出数据，形状为 (batch_size, num_classes)。\n",
    "        \"\"\"\n",
    "        x = self.embedding(x).unsqueeze(1) #形状为 (batch_size, 1, seq_len, embedding_dim)\n",
    "        x = [F.relu(conv(x)).squeeze(3) for conv in self.convs] #relu激活函数，形状为 (batch_size, num_filters, seq_len - filter_size + 1)\n",
    "        x = [F.max_pool1d(i,i.size(2)).squeeze(2) for i in x] #最大池化，形状为 (batch_size, num_filters)\n",
    "        x = torch.cat(x, 1) #形状为 (batch_size, num_filters * len(filter_sizes))\n",
    "        x=self.dropout(x) #丢弃层\n",
    "        logits = self.fc(x) #全连接层\n",
    "        return logits"
   ],
   "id": "98a5c7a07006e06e",
   "outputs": [],
   "execution_count": 6
  },
  {
   "metadata": {
    "ExecuteTime": {
     "end_time": "2025-01-22T14:41:52.003283Z",
     "start_time": "2025-01-22T14:41:51.998830Z"
    }
   },
   "cell_type": "code",
   "source": [
    "def train_model(model,dataloader,criterion,optimizer,num_epochs=25):\n",
    "    \"\"\"\n",
    "    训练模型\n",
    "    :param model: 模型。\n",
    "    :param dataloader: 数据加载器。\n",
    "    :param criterion: 损失函数。\n",
    "    :param optimizer: 优化器。\n",
    "    :param num_epochs: 训练轮数。\n",
    "    :return: 训练损失列表和准确率列表。\n",
    "    \"\"\"\n",
    "    device = torch.device(\"cuda\" if torch.cuda.is_available() else \"cpu\")\n",
    "    model.to(device)\n",
    "    history = {'train_loss': [], 'val_loss': []}\n",
    "\n",
    "    for epoch in range(num_epochs):\n",
    "        logging.info('Epoch {}/{}'.format(epoch+1, num_epochs))\n",
    "        logging.info('-' * 10)\n",
    "\n",
    "        for phase in ['train', 'val']:\n",
    "            if phase == 'train':\n",
    "                model.train()  # 训练模式\n",
    "            else:\n",
    "                model.eval()   # 评估模式\n",
    "\n",
    "            running_loss = 0.0\n",
    "            running_corrects = 0\n",
    "\n",
    "            for inputs, labels in dataloader[phase]:\n",
    "                inputs = inputs.to(device)\n",
    "                labels = labels.to(device)\n",
    "\n",
    "                optimizer.zero_grad() #梯度清零\n",
    "\n",
    "                with torch.set_grad_enabled(phase == 'train'): #是否计算梯度\n",
    "                    outputs = model(inputs) #前向传播\n",
    "                    _, preds = torch.max(outputs, 1) #预测结果\n",
    "                    loss = criterion(outputs, labels) #损失函数\n",
    "\n",
    "                    if phase == 'train':\n",
    "                        loss.backward() #反向传播\n",
    "                        optimizer.step() #更新参数\n",
    "\n",
    "                running_loss += loss.item() * inputs.size(0) #损失累加 # 使用 inputs.size(0) 获取批次大小\n",
    "                running_corrects += torch.sum(preds == labels.data) #正确预测数量累加\n",
    "\n",
    "            epoch_loss = running_loss / len(dataloader[phase].dataset) #平均损失\n",
    "            epoch_acc = running_corrects.double() / len(dataloader[phase].dataset) #准确率\n",
    "            logging.info('{} Loss: {:.4f} Acc: {:.4f}'.format(phase, epoch_loss, epoch_acc))\n",
    "\n",
    "            history[f'{phase}_loss'].append(epoch_loss) #记录损失\n",
    "    return model, history #返回模型和训练历史\n",
    "\n",
    "def plot_train_history(history):\n",
    "    \"\"\"\n",
    "    绘制训练和验证损失随时间的变化图\n",
    "    \"\"\"\n",
    "    epochs = range(len(history['train_loss']))\n",
    "\n",
    "    plt.figure(figsize=(12,4))\n",
    "    plt.subplot(121)\n",
    "    plt.plot(epochs, history['train_loss'],label='train_loss')\n",
    "    plt.plot(epochs, history['val_loss'], label='val_loss')\n",
    "    plt.title('model loss')\n",
    "    plt.xlabel('epoch')\n",
    "    plt.legend()\n",
    "\n",
    "    plt.tight_layout()\n",
    "    plt.show()"
   ],
   "id": "4ef2ba096e6b08fc",
   "outputs": [],
   "execution_count": 6
  },
  {
   "metadata": {
    "ExecuteTime": {
     "end_time": "2025-01-22T14:41:55.791587Z",
     "start_time": "2025-01-22T14:41:52.008572Z"
    }
   },
   "cell_type": "code",
   "source": [
    "#载入数据\n",
    "data_file = './data/train_set.csv'\n",
    "data = pd.read_csv(data_file,sep='\\t')\n",
    "labels = data['label'].values\n",
    "texts = data['text'].values\n",
    "#把字符串转换为整数列表\n",
    "# texts_as_int_lists = [list(map(int, text.split())) for text in texts]"
   ],
   "id": "ea7cb4b0e91b6be6",
   "outputs": [],
   "execution_count": 7
  },
  {
   "metadata": {
    "ExecuteTime": {
     "end_time": "2025-01-22T15:34:16.703250Z",
     "start_time": "2025-01-22T15:34:16.700250Z"
    }
   },
   "cell_type": "code",
   "source": [
    "def text_to_int(text, vocab, max_len):\n",
    "    int_list = [vocab.get(word, vocab['<unk>']) for word in text.split()]\n",
    "    padded = int_list[:max_len]\n",
    "    padding_needed = max_len - len(padded)\n",
    "    if padding_needed > 0:\n",
    "        padded.extend([vocab['[PAD]']] * padding_needed)\n",
    "    return padded\n",
    "\n",
    "texts_as_int_lists = [text_to_int(text, vocab, max_len=900) for text in texts]"
   ],
   "id": "7506ba17c0b61e0a",
   "outputs": [],
   "execution_count": 10
  },
  {
   "metadata": {
    "ExecuteTime": {
     "end_time": "2025-01-22T14:42:14.097832Z",
     "start_time": "2025-01-22T14:42:11.833343Z"
    }
   },
   "cell_type": "code",
   "source": [
    "#分割数据集为训练集和验证集\n",
    "X_train,X_test,y_train,y_test = train_test_split(texts_as_int_lists,labels,test_size=0.2,random_state=42)\n",
    "\n",
    "#创建数据集对象\n",
    "train_dataset = TextDataset(X_train,y_train,word_vectors,max_len=900)\n",
    "test_dataset = TextDataset(X_test,y_test,word_vectors,max_len=900)\n",
    "\n",
    "#创建数据加载器\n",
    "dataloaders = {\n",
    "    'train': DataLoader(train_dataset,batch_size=64,shuffle=True),\n",
    "    'val': DataLoader(test_dataset,batch_size=64,shuffle=False)\n",
    "}"
   ],
   "id": "493fe9fb474dedb2",
   "outputs": [],
   "execution_count": 9
  },
  {
   "metadata": {
    "ExecuteTime": {
     "end_time": "2025-01-22T14:42:14.879140Z",
     "start_time": "2025-01-22T14:42:14.119565Z"
    }
   },
   "cell_type": "code",
   "source": [
    "#初始化模型、损失函数和优化器\n",
    "model = TextCNN(vocab_size=len(vocab),\n",
    "                embedding_dim=embedding_dim,\n",
    "                num_filters=128,\n",
    "                filter_sizes=[3,4,5],\n",
    "                num_classes=14,\n",
    "                dropout=0.2)\n",
    "criterion = nn.CrossEntropyLoss()\n",
    "optimizer = optim.Adam(model.parameters(),lr=0.001)"
   ],
   "id": "4cf206543465efb",
   "outputs": [],
   "execution_count": 10
  },
  {
   "metadata": {
    "ExecuteTime": {
     "end_time": "2025-01-22T15:18:31.099371Z",
     "start_time": "2025-01-22T14:42:14.898756Z"
    }
   },
   "cell_type": "code",
   "source": [
    "#开始训练模型\n",
    "trained_model, history = train_model(model,dataloaders,criterion,optimizer,num_epochs=20)"
   ],
   "id": "f2c961724dc91e85",
   "outputs": [
    {
     "name": "stderr",
     "output_type": "stream",
     "text": [
      "2025-01-22 22:42:15,038 INFO: Epoch 1/20\n",
      "2025-01-22 22:42:15,038 INFO: ----------\n",
      "2025-01-22 22:43:45,608 INFO: train Loss: 0.4205 Acc: 0.8753\n",
      "2025-01-22 22:44:04,055 INFO: val Loss: 0.2426 Acc: 0.9276\n",
      "2025-01-22 22:44:04,056 INFO: Epoch 2/20\n",
      "2025-01-22 22:44:04,056 INFO: ----------\n",
      "2025-01-22 22:45:34,275 INFO: train Loss: 0.2503 Acc: 0.9249\n",
      "2025-01-22 22:45:52,769 INFO: val Loss: 0.2137 Acc: 0.9363\n",
      "2025-01-22 22:45:52,770 INFO: Epoch 3/20\n",
      "2025-01-22 22:45:52,770 INFO: ----------\n",
      "2025-01-22 22:47:22,950 INFO: train Loss: 0.1828 Acc: 0.9441\n",
      "2025-01-22 22:47:41,474 INFO: val Loss: 0.2215 Acc: 0.9319\n",
      "2025-01-22 22:47:41,474 INFO: Epoch 4/20\n",
      "2025-01-22 22:47:41,475 INFO: ----------\n",
      "2025-01-22 22:49:11,615 INFO: train Loss: 0.1463 Acc: 0.9549\n",
      "2025-01-22 22:49:30,099 INFO: val Loss: 0.2225 Acc: 0.9386\n",
      "2025-01-22 22:49:30,099 INFO: Epoch 5/20\n",
      "2025-01-22 22:49:30,100 INFO: ----------\n",
      "2025-01-22 22:51:00,267 INFO: train Loss: 0.1173 Acc: 0.9635\n",
      "2025-01-22 22:51:18,760 INFO: val Loss: 0.2424 Acc: 0.9399\n",
      "2025-01-22 22:51:18,760 INFO: Epoch 6/20\n",
      "2025-01-22 22:51:18,760 INFO: ----------\n",
      "2025-01-22 22:52:48,891 INFO: train Loss: 0.0973 Acc: 0.9690\n",
      "2025-01-22 22:53:07,488 INFO: val Loss: 0.2526 Acc: 0.9392\n",
      "2025-01-22 22:53:07,488 INFO: Epoch 7/20\n",
      "2025-01-22 22:53:07,488 INFO: ----------\n",
      "2025-01-22 22:54:37,552 INFO: train Loss: 0.0846 Acc: 0.9739\n",
      "2025-01-22 22:54:56,016 INFO: val Loss: 0.2983 Acc: 0.9350\n",
      "2025-01-22 22:54:56,016 INFO: Epoch 8/20\n",
      "2025-01-22 22:54:56,016 INFO: ----------\n",
      "2025-01-22 22:56:26,116 INFO: train Loss: 0.0782 Acc: 0.9761\n",
      "2025-01-22 22:56:44,580 INFO: val Loss: 0.3196 Acc: 0.9358\n",
      "2025-01-22 22:56:44,580 INFO: Epoch 9/20\n",
      "2025-01-22 22:56:44,580 INFO: ----------\n",
      "2025-01-22 22:58:14,570 INFO: train Loss: 0.0714 Acc: 0.9779\n",
      "2025-01-22 22:58:33,058 INFO: val Loss: 0.3394 Acc: 0.9369\n",
      "2025-01-22 22:58:33,059 INFO: Epoch 10/20\n",
      "2025-01-22 22:58:33,059 INFO: ----------\n",
      "2025-01-22 23:00:03,148 INFO: train Loss: 0.0660 Acc: 0.9804\n",
      "2025-01-22 23:00:22,090 INFO: val Loss: 0.3534 Acc: 0.9382\n",
      "2025-01-22 23:00:22,090 INFO: Epoch 11/20\n",
      "2025-01-22 23:00:22,091 INFO: ----------\n",
      "2025-01-22 23:01:53,640 INFO: train Loss: 0.0619 Acc: 0.9817\n",
      "2025-01-22 23:02:12,115 INFO: val Loss: 0.3948 Acc: 0.9349\n",
      "2025-01-22 23:02:12,116 INFO: Epoch 12/20\n",
      "2025-01-22 23:02:12,116 INFO: ----------\n",
      "2025-01-22 23:03:42,396 INFO: train Loss: 0.0594 Acc: 0.9827\n",
      "2025-01-22 23:04:00,882 INFO: val Loss: 0.4061 Acc: 0.9384\n",
      "2025-01-22 23:04:00,882 INFO: Epoch 13/20\n",
      "2025-01-22 23:04:00,882 INFO: ----------\n",
      "2025-01-22 23:05:30,959 INFO: train Loss: 0.0599 Acc: 0.9831\n",
      "2025-01-22 23:05:49,423 INFO: val Loss: 0.4136 Acc: 0.9398\n",
      "2025-01-22 23:05:49,424 INFO: Epoch 14/20\n",
      "2025-01-22 23:05:49,424 INFO: ----------\n",
      "2025-01-22 23:07:19,639 INFO: train Loss: 0.0534 Acc: 0.9851\n",
      "2025-01-22 23:07:38,116 INFO: val Loss: 0.4375 Acc: 0.9376\n",
      "2025-01-22 23:07:38,117 INFO: Epoch 15/20\n",
      "2025-01-22 23:07:38,117 INFO: ----------\n",
      "2025-01-22 23:09:08,243 INFO: train Loss: 0.0543 Acc: 0.9850\n",
      "2025-01-22 23:09:26,749 INFO: val Loss: 0.4628 Acc: 0.9356\n",
      "2025-01-22 23:09:26,750 INFO: Epoch 16/20\n",
      "2025-01-22 23:09:26,750 INFO: ----------\n",
      "2025-01-22 23:10:56,895 INFO: train Loss: 0.0535 Acc: 0.9857\n",
      "2025-01-22 23:11:15,389 INFO: val Loss: 0.4710 Acc: 0.9381\n",
      "2025-01-22 23:11:15,389 INFO: Epoch 17/20\n",
      "2025-01-22 23:11:15,389 INFO: ----------\n",
      "2025-01-22 23:12:45,467 INFO: train Loss: 0.0532 Acc: 0.9861\n",
      "2025-01-22 23:13:03,951 INFO: val Loss: 0.4962 Acc: 0.9371\n",
      "2025-01-22 23:13:03,951 INFO: Epoch 18/20\n",
      "2025-01-22 23:13:03,951 INFO: ----------\n",
      "2025-01-22 23:14:34,179 INFO: train Loss: 0.0477 Acc: 0.9873\n",
      "2025-01-22 23:14:52,677 INFO: val Loss: 0.5226 Acc: 0.9375\n",
      "2025-01-22 23:14:52,677 INFO: Epoch 19/20\n",
      "2025-01-22 23:14:52,677 INFO: ----------\n",
      "2025-01-22 23:16:22,869 INFO: train Loss: 0.0494 Acc: 0.9871\n",
      "2025-01-22 23:16:41,385 INFO: val Loss: 0.5416 Acc: 0.9358\n",
      "2025-01-22 23:16:41,385 INFO: Epoch 20/20\n",
      "2025-01-22 23:16:41,386 INFO: ----------\n",
      "2025-01-22 23:18:12,610 INFO: train Loss: 0.0463 Acc: 0.9881\n",
      "2025-01-22 23:18:31,097 INFO: val Loss: 0.5578 Acc: 0.9365\n"
     ]
    }
   ],
   "execution_count": 11
  },
  {
   "metadata": {
    "ExecuteTime": {
     "end_time": "2025-01-22T15:18:35.495782Z",
     "start_time": "2025-01-22T15:18:35.408250Z"
    }
   },
   "cell_type": "code",
   "source": [
    "#可视化训练历史情况\n",
    "plot_train_history(history)"
   ],
   "id": "aa34ecdfe947a71b",
   "outputs": [
    {
     "data": {
      "text/plain": [
       "<Figure size 1200x400 with 1 Axes>"
      ],
      "image/png": "[encoded data removed]"
     },
     "metadata": {},
     "output_type": "display_data"
    }
   ],
   "execution_count": 12
  },
  {
   "metadata": {
    "ExecuteTime": {
     "end_time": "2025-01-22T15:24:20.122069Z",
     "start_time": "2025-01-22T15:24:20.092005Z"
    }
   },
   "cell_type": "code",
   "source": [
    "#保存模型\n",
    "# 保存模型参数到文件\n",
    "torch.save(trained_model.state_dict(), 'word2vec_textCNN.pth')\n",
    "\n",
    "model.load_state_dict(torch.load('word2vec_textCNN.pth'))\n",
    "model.eval()  # 切换到评估模式"
   ],
   "id": "22fcd2fcc660db7e",
   "outputs": [
    {
     "name": "stderr",
     "output_type": "stream",
     "text": [
      "C:\\Users\\kodi\\AppData\\Local\\Temp\\ipykernel_15160\\3128001896.py:5: FutureWarning: You are using `torch.load` with `weights_only=False` (the current default value), which uses the default pickle module implicitly. It is possible to construct malicious pickle data which will execute arbitrary code during unpickling (See https://github.com/pytorch/pytorch/blob/main/SECURITY.md#untrusted-models for more details). In a future release, the default value for `weights_only` will be flipped to `True`. This limits the functions that could be executed during unpickling. Arbitrary objects will no longer be allowed to be loaded via this mode unless they are explicitly allowlisted by the user via `torch.serialization.add_safe_globals`. We recommend you start setting `weights_only=True` for any use case where you don't have full control of the loaded file. Please open an issue on GitHub for any issues related to this experimental feature.\n",
      "  model.load_state_dict(torch.load('word2vec_textCNN.pth'))\n"
     ]
    },
    {
     "data": {
      "text/plain": [
       "TextCNN(\n",
       "  (embedding): Embedding(5973, 200)\n",
       "  (convs): ModuleList(\n",
       "    (0): Conv2d(1, 128, kernel_size=(3, 200), stride=(1, 1))\n",
       "    (1): Conv2d(1, 128, kernel_size=(4, 200), stride=(1, 1))\n",
       "    (2): Conv2d(1, 128, kernel_size=(5, 200), stride=(1, 1))\n",
       "  )\n",
       "  (dropout): Dropout(p=0.2, inplace=False)\n",
       "  (fc): Linear(in_features=384, out_features=14, bias=True)\n",
       ")"
      ]
     },
     "execution_count": 20,
     "metadata": {},
     "output_type": "execute_result"
    }
   ],
   "execution_count": 20
  },
  {
   "metadata": {
    "ExecuteTime": {
     "end_time": "2025-01-22T15:33:46.824367Z",
     "start_time": "2025-01-22T15:33:46.728334Z"
    }
   },
   "cell_type": "code",
   "source": [
    "# 设定设备\n",
    "device = torch.device(\"cuda\" if torch.cuda.is_available() else \"cpu\")\n",
    "\n",
    "# 方法一：加载整个模型对象\n",
    "# model = torch.load('path_to_saved_model.pth', map_location=device)\n",
    "\n",
    "# 方法二：加载模型的状态字典\n",
    "# 首先创建一个与原模型架构相同的实例\n",
    "model = TextCNN(vocab_size=len(vocab),\n",
    "                embedding_dim=embedding_dim,\n",
    "                num_filters=128,\n",
    "                filter_sizes=[3,4,5],\n",
    "                num_classes=14,\n",
    "                dropout=0.2)\n",
    "\n",
    "# 然后加载状态字典\n",
    "model.load_state_dict(torch.load('word2vec_textCNN.pth', map_location=device))\n",
    "model.to(device)  # 将模型移动到相应的设备上\n",
    "model.eval()  # 切换到评估模式"
   ],
   "id": "3b9575022ac3d0a1",
   "outputs": [
    {
     "name": "stderr",
     "output_type": "stream",
     "text": [
      "C:\\Users\\kodi\\AppData\\Local\\Temp\\ipykernel_4984\\836746652.py:17: FutureWarning: You are using `torch.load` with `weights_only=False` (the current default value), which uses the default pickle module implicitly. It is possible to construct malicious pickle data which will execute arbitrary code during unpickling (See https://github.com/pytorch/pytorch/blob/main/SECURITY.md#untrusted-models for more details). In a future release, the default value for `weights_only` will be flipped to `True`. This limits the functions that could be executed during unpickling. Arbitrary objects will no longer be allowed to be loaded via this mode unless they are explicitly allowlisted by the user via `torch.serialization.add_safe_globals`. We recommend you start setting `weights_only=True` for any use case where you don't have full control of the loaded file. Please open an issue on GitHub for any issues related to this experimental feature.\n",
      "  model.load_state_dict(torch.load('word2vec_textCNN.pth', map_location=device))\n"
     ]
    },
    {
     "data": {
      "text/plain": [
       "TextCNN(\n",
       "  (embedding): Embedding(5973, 200)\n",
       "  (convs): ModuleList(\n",
       "    (0): Conv2d(1, 128, kernel_size=(3, 200), stride=(1, 1))\n",
       "    (1): Conv2d(1, 128, kernel_size=(4, 200), stride=(1, 1))\n",
       "    (2): Conv2d(1, 128, kernel_size=(5, 200), stride=(1, 1))\n",
       "  )\n",
       "  (dropout): Dropout(p=0.2, inplace=False)\n",
       "  (fc): Linear(in_features=384, out_features=14, bias=True)\n",
       ")"
      ]
     },
     "execution_count": 8,
     "metadata": {},
     "output_type": "execute_result"
    }
   ],
   "execution_count": 8
  },
  {
   "metadata": {
    "ExecuteTime": {
     "end_time": "2025-01-22T15:34:36.193221Z",
     "start_time": "2025-01-22T15:34:30.981239Z"
    }
   },
   "cell_type": "code",
   "source": [
    "#构造测试数据集\n",
    "test_data_file = './data/test_a.csv'\n",
    "test_data = pd.read_csv(test_data_file,sep='\\t')\n",
    "test_texts = test_data['text'].values\n",
    "test_texts_as_int_lists = [text_to_int(text, vocab, max_len=900) for text in test_texts]\n",
    "test_dataset = TextDataset(test_texts_as_int_lists, [0] * len(test_texts_as_int_lists), word_vectors, max_len=900)\n",
    "test_dataloader = DataLoader(test_dataset, batch_size=64, shuffle=False)"
   ],
   "id": "c3cff042b3ec821d",
   "outputs": [],
   "execution_count": 11
  },
  {
   "metadata": {
    "ExecuteTime": {
     "end_time": "2025-01-22T15:34:37.073132Z",
     "start_time": "2025-01-22T15:34:37.069057Z"
    }
   },
   "cell_type": "code",
   "source": [
    "device = torch.device(\"cuda\" if torch.cuda.is_available() else \"cpu\")\n",
    "device"
   ],
   "id": "34ba737aca69f74",
   "outputs": [
    {
     "data": {
      "text/plain": [
       "device(type='cuda')"
      ]
     },
     "execution_count": 12,
     "metadata": {},
     "output_type": "execute_result"
    }
   ],
   "execution_count": 12
  },
  {
   "metadata": {
    "ExecuteTime": {
     "end_time": "2025-01-22T15:36:45.861397Z",
     "start_time": "2025-01-22T15:36:45.856814Z"
    }
   },
   "cell_type": "code",
   "source": [
    "#预测新数据\n",
    "def predict(model, dataloader):\n",
    "    device = torch.device(\"cuda\" if torch.cuda.is_available() else \"cpu\")\n",
    "    model.to(device)  # 将模型移动到相应的设备\n",
    "    model.eval()      # 切换到评估模式\n",
    "    predictions = []\n",
    "    with torch.no_grad():\n",
    "        for inputs, _ in dataloader:  # 假设新数据没有标签\n",
    "            inputs = inputs.to(device) # 将数据移动到相应的设备\n",
    "            outputs = model(inputs)\n",
    "            # 对于分类任务，通常会使用softmax函数将输出转换为概率分布，然后选择具有最高概率的类别作为预测结果。直接使用torch.max函数获取每行的最大值及其索引。只关心类别索引（预测标签），所以第二个返回值preds就是需要的结果\n",
    "            _, preds = torch.max(outputs, 1)\n",
    "            # # 将预测结果从PyTorch张量转换为NumPy数组，并添加到predictions列表中。.cpu()方法确保即使原始张量位于GPU上，也可以安全地转换为NumPy格式。\n",
    "            predictions.extend(preds.cpu().numpy())\n",
    "\n",
    "    return predictions"
   ],
   "id": "be018c2829bcf5e2",
   "outputs": [],
   "execution_count": 16
  },
  {
   "metadata": {
    "ExecuteTime": {
     "end_time": "2025-01-22T15:37:09.959711Z",
     "start_time": "2025-01-22T15:36:46.430618Z"
    }
   },
   "cell_type": "code",
   "source": "predictions = predict(model, test_dataloader)",
   "id": "d8227e6ad0d23f9",
   "outputs": [],
   "execution_count": 17
  },
  {
   "metadata": {
    "ExecuteTime": {
     "end_time": "2025-01-22T15:38:17.221132Z",
     "start_time": "2025-01-22T15:38:17.106132Z"
    }
   },
   "cell_type": "code",
   "source": "pd.DataFrame(predictions,columns=['label']).to_csv('word2vec_textCNN_submit.csv',index=False)",
   "id": "235fe30715912721",
   "outputs": [],
   "execution_count": 20
  },
  {
   "metadata": {},
   "cell_type": "code",
   "outputs": [],
   "execution_count": null,
   "source": "",
   "id": "ef89a8bc8943415a"
  }
 ],
 "metadata": {
  "kernelspec": {
   "display_name": "Python 3",
   "language": "python",
   "name": "python3"
  },
  "language_info": {
   "codemirror_mode": {
    "name": "ipython",
    "version": 2
   },
   "file_extension": ".py",
   "mimetype": "text/x-python",
   "name": "python",
   "nbconvert_exporter": "python",
   "pygments_lexer": "ipython2",
   "version": "2.7.6"
  }
 },
 "nbformat": 4,
 "nbformat_minor": 5
}
