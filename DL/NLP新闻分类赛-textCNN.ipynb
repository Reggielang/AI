{
 "cells": [
  {
   "cell_type": "code",
   "id": "initial_id",
   "metadata": {
    "collapsed": true,
    "ExecuteTime": {
     "end_time": "2025-01-22T22:17:07.930176Z",
     "start_time": "2025-01-22T22:17:04.450026Z"
    }
   },
   "source": [
    "import torch\n",
    "import torch.nn as nn\n",
    "import torch.optim as optim\n",
    "from torch.utils.data import DataLoader, Dataset\n",
    "import torch.nn.functional as F\n",
    "import matplotlib.pyplot as plt\n",
    "from sklearn.model_selection import train_test_split\n",
    "import numpy as np\n",
    "import logging\n",
    "import pandas as pd\n",
    "import gensim\n",
    "from gensim.models import KeyedVectors\n",
    "\n",
    "logging.basicConfig(level=logging.INFO, format='%(asctime)-15s %(levelname)s: %(message)s')"
   ],
   "outputs": [],
   "execution_count": 1
  },
  {
   "metadata": {
    "ExecuteTime": {
     "end_time": "2025-01-22T22:17:08.339301Z",
     "start_time": "2025-01-22T22:17:07.938175Z"
    }
   },
   "cell_type": "code",
   "source": [
    "# 预训练的词向量文件路径\n",
    "vec_path = \"word2vec.txt\"  # 替换为实际路径\n",
    "# 加载词向量文件\n",
    "word_vectors = gensim.models.KeyedVectors.load_word2vec_format(vec_path, binary=False)"
   ],
   "id": "f55657b3e4e49c4c",
   "outputs": [
    {
     "name": "stderr",
     "output_type": "stream",
     "text": [
      "2025-01-23 06:17:07,940 INFO: loading projection weights from word2vec.txt\n",
      "2025-01-23 06:17:08,337 INFO: KeyedVectors lifecycle event {'msg': 'loaded (5971, 200) matrix of type float32 from word2vec.txt', 'binary': False, 'encoding': 'utf8', 'datetime': '2025-01-23T06:17:08.337283', 'gensim': '4.3.3', 'python': '3.12.8 | packaged by Anaconda, Inc. | (main, Dec 11 2024, 16:48:34) [MSC v.1929 64 bit (AMD64)]', 'platform': 'Windows-10-10.0.19045-SP0', 'event': 'load_word2vec_format'}\n"
     ]
    }
   ],
   "execution_count": 2
  },
  {
   "metadata": {
    "ExecuteTime": {
     "end_time": "2025-01-22T22:17:08.472715Z",
     "start_time": "2025-01-22T22:17:08.466222Z"
    }
   },
   "cell_type": "code",
   "source": [
    "# 获取原始词向量的维度\n",
    "embedding_dim = word_vectors.vector_size\n",
    "\n",
    "# 初始化词汇表，包含特殊标记\n",
    "vocab = {'<unk>': 0, '[PAD]': 1}  # <unk> 和 [PAD] 的索引分别为 0 和 1\n",
    "\n",
    "# 将原始词向量添加到词汇表中\n",
    "for idx, word in enumerate(word_vectors.index_to_key, start=len(vocab)):\n",
    "    vocab[word] = idx\n",
    "\n",
    "# 更新 word_vectors，确保包含特殊标记\n",
    "special_tokens = {'<unk>': np.random.uniform(-0.25, 0.25, embedding_dim),\n",
    "                  '[PAD]': np.zeros(embedding_dim)}\n",
    "\n",
    "for token, vector in special_tokens.items():\n",
    "    if token not in word_vectors:\n",
    "        word_vectors.add_vector(token, vector)\n",
    "\n",
    "print(\"Vocabulary size:\", len(vocab))"
   ],
   "id": "f29f862aa4870588",
   "outputs": [
    {
     "name": "stdout",
     "output_type": "stream",
     "text": [
      "Vocabulary size: 5973\n"
     ]
    },
    {
     "name": "stderr",
     "output_type": "stream",
     "text": [
      "E:\\miniconda3\\Lib\\site-packages\\gensim\\models\\keyedvectors.py:551: UserWarning: Adding single vectors to a KeyedVectors which grows by one each time can be costly. Consider adding in batches or preallocating to the required size.\n",
      "  warnings.warn(\n"
     ]
    }
   ],
   "execution_count": 3
  },
  {
   "metadata": {
    "ExecuteTime": {
     "end_time": "2025-01-22T22:17:10.992631Z",
     "start_time": "2025-01-22T22:17:10.988215Z"
    }
   },
   "cell_type": "code",
   "source": [
    "#数据集处理\n",
    "class TextDataset(Dataset):\n",
    "    def __init__(self, texts, labels, word_vectors, max_len, unk_token='<unk>'):\n",
    "        \"\"\"\n",
    "        文本数据集类\n",
    "        :param texts: 文本数据列表，每个元素是一个词索引列表。\n",
    "        :param labels: 标签列表，与 texts 中的文本一一对应。\n",
    "        :param word_vectors: 词向量对象，包含词汇表和对应的词向量。\n",
    "        :param max_len: 每个文本的最大长度，用于填充或截断文本。\n",
    "        :param unk_token: 未知词标记，默认为 '<unk>'.\n",
    "        \"\"\"\n",
    "        self.labels = labels\n",
    "        self.word_vectors = word_vectors\n",
    "        self.unk_token = unk_token\n",
    "        self.max_len = max_len\n",
    "\n",
    "        # 确保 <unk> 和 [PAD] 已经存在于 word_vectors 中\n",
    "        assert '<unk>' in self.word_vectors.key_to_index, \"Vocabulary does not contain '<unk>' token.\"\n",
    "        assert '[PAD]' in self.word_vectors.key_to_index, \"Vocabulary does not contain '[PAD]' token.\"\n",
    "\n",
    "        # 填充或截断文本\n",
    "        self.text = [self.pad_text(text, max_len) for text in texts]\n",
    "\n",
    "    def pad_text(self, text, max_len):\n",
    "        \"\"\"\n",
    "        填充或截断文本以匹配指定的最大长度\n",
    "        :param text: 文本数据列表，每个元素是一个词索引列表。\n",
    "        :param max_len: 每个文本的最大长度，用于填充或截断文本。\n",
    "        \"\"\"\n",
    "        if not isinstance(text, list):\n",
    "            raise ValueError(\"Expected a list of integers as input.\")\n",
    "\n",
    "        padded = text[:max_len]  # 截取前 max_len 个元素\n",
    "        padding_needed = max_len - len(padded)\n",
    "        if padding_needed > 0:\n",
    "            padded.extend([self.word_vectors.key_to_index.get('[PAD]', 0)] * padding_needed)  # 使用[PAD]索引填充\n",
    "        return padded\n",
    "\n",
    "    def __len__(self):\n",
    "        \"\"\"返回数据集中样本的数量\"\"\"\n",
    "        return len(self.labels)\n",
    "\n",
    "    def __getitem__(self, index):\n",
    "        \"\"\"\n",
    "        获取指定索引的数据\n",
    "        :param index: 数据索引。\n",
    "        :return: 一个元组，包含文本数据和对应的标签。\n",
    "        \"\"\"\n",
    "        text_tensor = torch.tensor(self.text[index], dtype=torch.long)  # 只传递词索引\n",
    "        label_tensor = torch.tensor(self.labels[index], dtype=torch.long)\n",
    "        return text_tensor, label_tensor"
   ],
   "id": "6ab5511fc1191b2",
   "outputs": [],
   "execution_count": 4
  },
  {
   "metadata": {
    "ExecuteTime": {
     "end_time": "2025-01-22T22:40:05.101371Z",
     "start_time": "2025-01-22T22:40:05.097408Z"
    }
   },
   "cell_type": "code",
   "source": [
    "class TextCNN(nn.Module):\n",
    "    def __init__(self,vocab_size,embedding_dim,num_filters,filter_sizes,num_classes,dropout):\n",
    "        \"\"\"\n",
    "        文本分类模型\n",
    "        :param vocab_size: 词汇表大小。\n",
    "        :param embedding_dim: 嵌入维度。\n",
    "        :param num_filters: 卷积核数量。\n",
    "        :param filter_sizes: 卷积核大小列表。\n",
    "        :param num_classes: 分类类别数量。\n",
    "        :param dropout: 丢弃率。\n",
    "        \"\"\"\n",
    "        super(TextCNN,self).__init__()\n",
    "        self.embedding = nn.Embedding(num_embeddings=vocab_size, embedding_dim=embedding_dim) # 词嵌入层\n",
    "         # 卷积层 + 批处理规范化层\n",
    "        self.convs = nn.ModuleList([\n",
    "            nn.Sequential(\n",
    "                nn.Conv2d(1, num_filters, (fs, embedding_dim)),\n",
    "                nn.BatchNorm2d(num_filters),  # 添加批处理规范化层\n",
    "                nn.ReLU()\n",
    "            ) for fs in filter_sizes\n",
    "        ])\n",
    "        # self.convs = nn.ModuleList([nn.Conv2d(1,num_filters,(fs,embedding_dim)) for fs in filter_sizes]) #卷积层\n",
    "        self.dropout = nn.Dropout(dropout) #丢弃层\n",
    "        self.fc = nn.Linear(len(filter_sizes)*num_filters,num_classes) #全连接层\n",
    "\n",
    "    def forward(self,x):\n",
    "        \"\"\"\n",
    "        前向传播\n",
    "        :param x: 输入数据，形状为 (batch_size, seq_len)。\n",
    "        :return: 输出数据，形状为 (batch_size, num_classes)。\n",
    "        \"\"\"\n",
    "        x = self.embedding(x).unsqueeze(1) #形状为 (batch_size, 1, seq_len, embedding_dim)\n",
    "        x = [F.relu(conv(x)).squeeze(3) for conv in self.convs] #relu激活函数，形状为 (batch_size, num_filters, seq_len - filter_size + 1)\n",
    "        x = [F.max_pool1d(i,i.size(2)).squeeze(2) for i in x] #最大池化，形状为 (batch_size, num_filters)\n",
    "        x = torch.cat(x, 1) #形状为 (batch_size, num_filters * len(filter_sizes))\n",
    "        x=self.dropout(x) #丢弃层\n",
    "        logits = self.fc(x) #全连接层\n",
    "        return logits"
   ],
   "id": "98a5c7a07006e06e",
   "outputs": [],
   "execution_count": 22
  },
  {
   "metadata": {
    "ExecuteTime": {
     "end_time": "2025-01-22T22:40:08.042943Z",
     "start_time": "2025-01-22T22:40:08.036941Z"
    }
   },
   "cell_type": "code",
   "source": [
    "def train_model(model,dataloader,criterion,optimizer,num_epochs):\n",
    "    \"\"\"\n",
    "    训练模型\n",
    "    :param model: 模型。\n",
    "    :param dataloader: 数据加载器。\n",
    "    :param criterion: 损失函数。\n",
    "    :param optimizer: 优化器。\n",
    "    :param num_epochs: 训练轮数。\n",
    "    :return: 训练损失列表和准确率列表。\n",
    "    \"\"\"\n",
    "    device = torch.device(\"cuda\" if torch.cuda.is_available() else \"cpu\")\n",
    "    model.to(device)\n",
    "    history = {'train_loss': [], 'val_loss': []}\n",
    "\n",
    "    for epoch in range(num_epochs):\n",
    "        logging.info('Epoch {}/{}'.format(epoch+1, num_epochs))\n",
    "        logging.info('-' * 10)\n",
    "\n",
    "        for phase in ['train', 'val']:\n",
    "            if phase == 'train':\n",
    "                model.train()  # 训练模式\n",
    "            else:\n",
    "                model.eval()   # 评估模式\n",
    "\n",
    "            running_loss = 0.0\n",
    "            running_corrects = 0\n",
    "\n",
    "            for inputs, labels in dataloader[phase]:\n",
    "                inputs = inputs.to(device)\n",
    "                labels = labels.to(device)\n",
    "\n",
    "                optimizer.zero_grad() #梯度清零\n",
    "\n",
    "                with torch.set_grad_enabled(phase == 'train'): #是否计算梯度\n",
    "                    outputs = model(inputs) #前向传播\n",
    "                    _, preds = torch.max(outputs, 1) #预测结果\n",
    "                    loss = criterion(outputs, labels) #损失函数\n",
    "\n",
    "                    if phase == 'train':\n",
    "                        # 手动添加L2正则化损失\n",
    "                        # l2_loss = 0.0\n",
    "                        # for param in model.parameters():\n",
    "                        #     if param.requires_grad:\n",
    "                        #         l2_loss += torch.norm(param, p=2) ** 2\n",
    "                        # loss += lambda_l2 * l2_loss / 2\n",
    "\n",
    "                        loss.backward() #反向传播\n",
    "                        optimizer.step() #更新参数\n",
    "\n",
    "                running_loss += loss.item() * inputs.size(0) #损失累加 # 使用 inputs.size(0) 获取批次大小\n",
    "                running_corrects += torch.sum(preds == labels.data) #正确预测数量累加\n",
    "\n",
    "            epoch_loss = running_loss / len(dataloader[phase].dataset) #平均损失\n",
    "            epoch_acc = running_corrects.double() / len(dataloader[phase].dataset) #准确率\n",
    "            logging.info('{} Loss: {:.4f} Acc: {:.4f}'.format(phase, epoch_loss, epoch_acc))\n",
    "\n",
    "            history[f'{phase}_loss'].append(epoch_loss) #记录损失\n",
    "    return model, history #返回模型和训练历史\n",
    "\n",
    "def plot_train_history(history):\n",
    "    \"\"\"\n",
    "    绘制训练和验证损失随时间的变化图\n",
    "    \"\"\"\n",
    "    epochs = range(len(history['train_loss']))\n",
    "\n",
    "    plt.figure(figsize=(12,4))\n",
    "    plt.subplot(121)\n",
    "    plt.plot(epochs, history['train_loss'],label='train_loss')\n",
    "    plt.plot(epochs, history['val_loss'], label='val_loss')\n",
    "    plt.title('model loss')\n",
    "    plt.xlabel('epoch')\n",
    "    plt.legend()\n",
    "\n",
    "    plt.tight_layout()\n",
    "    plt.show()"
   ],
   "id": "4ef2ba096e6b08fc",
   "outputs": [],
   "execution_count": 23
  },
  {
   "metadata": {
    "ExecuteTime": {
     "end_time": "2025-01-22T22:17:32.745870Z",
     "start_time": "2025-01-22T22:17:28.971661Z"
    }
   },
   "cell_type": "code",
   "source": [
    "#载入数据\n",
    "data_file = './data/train_set.csv'\n",
    "data = pd.read_csv(data_file,sep='\\t')\n",
    "labels = data['label'].values\n",
    "texts = data['text'].values"
   ],
   "id": "ea7cb4b0e91b6be6",
   "outputs": [],
   "execution_count": 7
  },
  {
   "metadata": {
    "ExecuteTime": {
     "end_time": "2025-01-22T23:02:08.908704Z",
     "start_time": "2025-01-22T23:02:08.842088Z"
    }
   },
   "cell_type": "code",
   "source": [
    "# 计算文本长度\n",
    "lengths = [len(text) for text in texts]\n",
    "\n",
    "# 找出覆盖90%和95%数据所需的最小长度\n",
    "sorted_lengths = sorted(lengths)\n",
    "min_length_90 = sorted_lengths[int(0.9 * len(sorted_lengths))]\n",
    "min_length_95 = sorted_lengths[int(0.95 * len(sorted_lengths))]\n",
    "\n",
    "print(f\"90% of data covered by length: {min_length_90}\")\n",
    "print(f\"95% of data covered by length: {min_length_95}\")"
   ],
   "id": "43f738fae37f9ec5",
   "outputs": [
    {
     "name": "stdout",
     "output_type": "stream",
     "text": [
      "90% of data covered by length: 8707\n",
      "95% of data covered by length: 11898\n"
     ]
    }
   ],
   "execution_count": 35
  },
  {
   "metadata": {
    "ExecuteTime": {
     "end_time": "2025-01-22T22:17:47.786822Z",
     "start_time": "2025-01-22T22:17:47.784503Z"
    }
   },
   "cell_type": "code",
   "source": [
    "def text_to_int(text, vocab, max_len):\n",
    "    int_list = [vocab.get(word, vocab['<unk>']) for word in text.split()]\n",
    "    padded = int_list[:max_len]\n",
    "    padding_needed = max_len - len(padded)\n",
    "    if padding_needed > 0:\n",
    "        padded.extend([vocab['[PAD]']] * padding_needed)\n",
    "    return padded"
   ],
   "id": "7506ba17c0b61e0a",
   "outputs": [],
   "execution_count": 8
  },
  {
   "metadata": {
    "ExecuteTime": {
     "end_time": "2025-01-22T23:04:17.389431Z",
     "start_time": "2025-01-22T23:03:35.695222Z"
    }
   },
   "cell_type": "code",
   "source": [
    "#将文本转换为整数列表\n",
    "texts_as_int_lists = [text_to_int(text, vocab, max_len=11000) for text in texts]"
   ],
   "id": "dd066e83f394f41b",
   "outputs": [],
   "execution_count": 36
  },
  {
   "metadata": {
    "ExecuteTime": {
     "end_time": "2025-01-22T23:04:21.525106Z",
     "start_time": "2025-01-22T23:04:17.392432Z"
    }
   },
   "cell_type": "code",
   "source": [
    "#分割数据集为训练集和验证集\n",
    "X_train,X_test,y_train,y_test = train_test_split(texts_as_int_lists,labels,test_size=0.2,random_state=42)\n",
    "\n",
    "#创建数据集对象\n",
    "train_dataset = TextDataset(X_train,y_train,word_vectors,max_len=11000)\n",
    "test_dataset = TextDataset(X_test,y_test,word_vectors,max_len=11000)\n",
    "\n",
    "#创建数据加载器\n",
    "dataloaders = {\n",
    "    'train': DataLoader(train_dataset,batch_size=64,shuffle=True),\n",
    "    'val': DataLoader(test_dataset,batch_size=64,shuffle=False)\n",
    "}"
   ],
   "id": "493fe9fb474dedb2",
   "outputs": [],
   "execution_count": 37
  },
  {
   "metadata": {
    "ExecuteTime": {
     "end_time": "2025-01-23T01:10:42.651524Z",
     "start_time": "2025-01-23T01:10:42.642523Z"
    }
   },
   "cell_type": "code",
   "source": [
    "#初始化模型、损失函数和优化器\n",
    "model = TextCNN(vocab_size=len(vocab),\n",
    "                embedding_dim=embedding_dim,\n",
    "                num_filters=128,\n",
    "                filter_sizes=[3,4],\n",
    "                num_classes=14,\n",
    "                dropout=0.4)\n",
    "criterion = nn.CrossEntropyLoss()\n",
    "optimizer = optim.Adam(model.parameters(),lr=0.001, weight_decay=1e-5)"
   ],
   "id": "4cf206543465efb",
   "outputs": [],
   "execution_count": 48
  },
  {
   "metadata": {
    "ExecuteTime": {
     "end_time": "2025-01-23T01:28:35.211854Z",
     "start_time": "2025-01-23T01:10:43.514558Z"
    }
   },
   "cell_type": "code",
   "source": [
    "#开始训练模型\n",
    "trained_model, history = train_model(model,dataloaders,criterion,optimizer,num_epochs=15)"
   ],
   "id": "f2c961724dc91e85",
   "outputs": [
    {
     "name": "stderr",
     "output_type": "stream",
     "text": [
      "2025-01-23 09:10:43,516 INFO: Epoch 1/15\n",
      "2025-01-23 09:10:43,516 INFO: ----------\n",
      "2025-01-23 09:11:43,714 INFO: train Loss: 0.6583 Acc: 0.8005\n",
      "2025-01-23 09:11:55,903 INFO: val Loss: 0.2963 Acc: 0.9080\n",
      "2025-01-23 09:11:55,904 INFO: Epoch 2/15\n",
      "2025-01-23 09:11:55,904 INFO: ----------\n",
      "2025-01-23 09:12:56,897 INFO: train Loss: 0.3882 Acc: 0.8825\n",
      "2025-01-23 09:13:09,633 INFO: val Loss: 0.2591 Acc: 0.9205\n",
      "2025-01-23 09:13:09,633 INFO: Epoch 3/15\n",
      "2025-01-23 09:13:09,634 INFO: ----------\n",
      "2025-01-23 09:14:10,418 INFO: train Loss: 0.3114 Acc: 0.9068\n",
      "2025-01-23 09:14:22,451 INFO: val Loss: 0.2314 Acc: 0.9286\n",
      "2025-01-23 09:14:22,452 INFO: Epoch 4/15\n",
      "2025-01-23 09:14:22,453 INFO: ----------\n",
      "2025-01-23 09:15:21,655 INFO: train Loss: 0.2665 Acc: 0.9189\n",
      "2025-01-23 09:15:33,678 INFO: val Loss: 0.2160 Acc: 0.9330\n",
      "2025-01-23 09:15:33,678 INFO: Epoch 5/15\n",
      "2025-01-23 09:15:33,679 INFO: ----------\n",
      "2025-01-23 09:16:32,708 INFO: train Loss: 0.2411 Acc: 0.9267\n",
      "2025-01-23 09:16:44,675 INFO: val Loss: 0.2041 Acc: 0.9365\n",
      "2025-01-23 09:16:44,676 INFO: Epoch 6/15\n",
      "2025-01-23 09:16:44,676 INFO: ----------\n",
      "2025-01-23 09:17:43,836 INFO: train Loss: 0.2221 Acc: 0.9329\n",
      "2025-01-23 09:17:55,833 INFO: val Loss: 0.1988 Acc: 0.9392\n",
      "2025-01-23 09:17:55,833 INFO: Epoch 7/15\n",
      "2025-01-23 09:17:55,834 INFO: ----------\n",
      "2025-01-23 09:18:54,942 INFO: train Loss: 0.2093 Acc: 0.9366\n",
      "2025-01-23 09:19:06,943 INFO: val Loss: 0.1945 Acc: 0.9397\n",
      "2025-01-23 09:19:06,944 INFO: Epoch 8/15\n",
      "2025-01-23 09:19:06,944 INFO: ----------\n",
      "2025-01-23 09:20:05,935 INFO: train Loss: 0.1951 Acc: 0.9407\n",
      "2025-01-23 09:20:17,939 INFO: val Loss: 0.1905 Acc: 0.9406\n",
      "2025-01-23 09:20:17,940 INFO: Epoch 9/15\n",
      "2025-01-23 09:20:17,940 INFO: ----------\n",
      "2025-01-23 09:21:17,118 INFO: train Loss: 0.1859 Acc: 0.9430\n",
      "2025-01-23 09:21:29,120 INFO: val Loss: 0.1899 Acc: 0.9421\n",
      "2025-01-23 09:21:29,120 INFO: Epoch 10/15\n",
      "2025-01-23 09:21:29,121 INFO: ----------\n",
      "2025-01-23 09:22:28,258 INFO: train Loss: 0.1764 Acc: 0.9457\n",
      "2025-01-23 09:22:40,238 INFO: val Loss: 0.1861 Acc: 0.9431\n",
      "2025-01-23 09:22:40,238 INFO: Epoch 11/15\n",
      "2025-01-23 09:22:40,239 INFO: ----------\n",
      "2025-01-23 09:23:39,313 INFO: train Loss: 0.1662 Acc: 0.9488\n",
      "2025-01-23 09:23:51,278 INFO: val Loss: 0.1835 Acc: 0.9430\n",
      "2025-01-23 09:23:51,279 INFO: Epoch 12/15\n",
      "2025-01-23 09:23:51,279 INFO: ----------\n",
      "2025-01-23 09:24:50,296 INFO: train Loss: 0.1601 Acc: 0.9504\n",
      "2025-01-23 09:25:02,295 INFO: val Loss: 0.1896 Acc: 0.9430\n",
      "2025-01-23 09:25:02,295 INFO: Epoch 13/15\n",
      "2025-01-23 09:25:02,295 INFO: ----------\n",
      "2025-01-23 09:26:01,205 INFO: train Loss: 0.1520 Acc: 0.9530\n",
      "2025-01-23 09:26:13,213 INFO: val Loss: 0.1841 Acc: 0.9442\n",
      "2025-01-23 09:26:13,213 INFO: Epoch 14/15\n",
      "2025-01-23 09:26:13,214 INFO: ----------\n",
      "2025-01-23 09:27:12,221 INFO: train Loss: 0.1463 Acc: 0.9545\n",
      "2025-01-23 09:27:24,230 INFO: val Loss: 0.1852 Acc: 0.9438\n",
      "2025-01-23 09:27:24,230 INFO: Epoch 15/15\n",
      "2025-01-23 09:27:24,231 INFO: ----------\n",
      "2025-01-23 09:28:23,215 INFO: train Loss: 0.1416 Acc: 0.9555\n",
      "2025-01-23 09:28:35,209 INFO: val Loss: 0.1870 Acc: 0.9445\n"
     ]
    }
   ],
   "execution_count": 49
  },
  {
   "metadata": {
    "ExecuteTime": {
     "end_time": "2025-01-23T02:13:50.597616Z",
     "start_time": "2025-01-23T02:13:50.528666Z"
    }
   },
   "cell_type": "code",
   "source": [
    "#可视化训练历史情况\n",
    "plot_train_history(history)"
   ],
   "id": "aa34ecdfe947a71b",
   "outputs": [
    {
     "data": {
      "text/plain": [
       "<Figure size 1200x400 with 1 Axes>"
      ],
      "image/png": "[encoded data removed]"
     },
     "metadata": {},
     "output_type": "display_data"
    }
   ],
   "execution_count": 50
  },
  {
   "metadata": {
    "ExecuteTime": {
     "end_time": "2025-01-23T02:13:59.156289Z",
     "start_time": "2025-01-23T02:13:59.146216Z"
    }
   },
   "cell_type": "code",
   "source": [
    "#保存模型\n",
    "# 保存模型参数到文件\n",
    "torch.save(trained_model.state_dict(), 'models/word2vec_textCNN5.pth')"
   ],
   "id": "22fcd2fcc660db7e",
   "outputs": [],
   "execution_count": 51
  },
  {
   "metadata": {
    "ExecuteTime": {
     "end_time": "2025-01-23T02:14:21.261171Z",
     "start_time": "2025-01-23T02:14:21.243696Z"
    }
   },
   "cell_type": "code",
   "source": [
    "# 设定设备\n",
    "device = torch.device(\"cuda\" if torch.cuda.is_available() else \"cpu\")\n",
    "\n",
    "# 加载模型的状态字典\n",
    "# 首先创建一个与原模型架构相同的实例\n",
    "model = TextCNN(vocab_size=len(vocab),\n",
    "                embedding_dim=embedding_dim,\n",
    "                num_filters=128,\n",
    "                filter_sizes=[3,4],\n",
    "                num_classes=14,\n",
    "                dropout=0.2)\n",
    "\n",
    "# 然后加载状态字典\n",
    "model.load_state_dict(torch.load('models/word2vec_textCNN5.pth', map_location=device,weights_only=True))\n",
    "model.to(device)  # 将模型移动到相应的设备上\n",
    "model.eval()  # 切换到评估模式"
   ],
   "id": "3b9575022ac3d0a1",
   "outputs": [
    {
     "data": {
      "text/plain": [
       "TextCNN(\n",
       "  (embedding): Embedding(5973, 200)\n",
       "  (convs): ModuleList(\n",
       "    (0): Sequential(\n",
       "      (0): Conv2d(1, 128, kernel_size=(3, 200), stride=(1, 1))\n",
       "      (1): BatchNorm2d(128, eps=1e-05, momentum=0.1, affine=True, track_running_stats=True)\n",
       "      (2): ReLU()\n",
       "    )\n",
       "    (1): Sequential(\n",
       "      (0): Conv2d(1, 128, kernel_size=(4, 200), stride=(1, 1))\n",
       "      (1): BatchNorm2d(128, eps=1e-05, momentum=0.1, affine=True, track_running_stats=True)\n",
       "      (2): ReLU()\n",
       "    )\n",
       "  )\n",
       "  (dropout): Dropout(p=0.2, inplace=False)\n",
       "  (fc): Linear(in_features=256, out_features=14, bias=True)\n",
       ")"
      ]
     },
     "execution_count": 54,
     "metadata": {},
     "output_type": "execute_result"
    }
   ],
   "execution_count": 54
  },
  {
   "metadata": {
    "ExecuteTime": {
     "end_time": "2025-01-23T02:14:32.412116Z",
     "start_time": "2025-01-23T02:14:26.204035Z"
    }
   },
   "cell_type": "code",
   "source": [
    "#构造测试数据集\n",
    "test_data_file = './data/test_a.csv'\n",
    "test_data = pd.read_csv(test_data_file,sep='\\t')\n",
    "test_texts = test_data['text'].values\n",
    "test_texts_as_int_lists = [text_to_int(text, vocab, max_len=900) for text in test_texts]\n",
    "test_dataset = TextDataset(test_texts_as_int_lists, [0] * len(test_texts_as_int_lists), word_vectors, max_len=900)\n",
    "test_dataloader = DataLoader(test_dataset, batch_size=64, shuffle=False)"
   ],
   "id": "c3cff042b3ec821d",
   "outputs": [],
   "execution_count": 55
  },
  {
   "metadata": {
    "ExecuteTime": {
     "end_time": "2025-01-23T02:14:32.418436Z",
     "start_time": "2025-01-23T02:14:32.415114Z"
    }
   },
   "cell_type": "code",
   "source": [
    "#预测新数据\n",
    "def predict(model, dataloader):\n",
    "    device = torch.device(\"cuda\" if torch.cuda.is_available() else \"cpu\")\n",
    "    model.to(device)  # 将模型移动到相应的设备\n",
    "    model.eval()      # 切换到评估模式\n",
    "    predictions = []\n",
    "    with torch.no_grad():\n",
    "        for inputs, _ in dataloader:  # 假设新数据没有标签\n",
    "            inputs = inputs.to(device) # 将数据移动到相应的设备\n",
    "            outputs = model(inputs)\n",
    "            # 对于分类任务，通常会使用softmax函数将输出转换为概率分布，然后选择具有最高概率的类别作为预测结果。直接使用torch.max函数获取每行的最大值及其索引。只关心类别索引（预测标签），所以第二个返回值preds就是需要的结果\n",
    "            _, preds = torch.max(outputs, 1)\n",
    "            # # 将预测结果从PyTorch张量转换为NumPy数组，并添加到predictions列表中。.cpu()方法确保即使原始张量位于GPU上，也可以安全地转换为NumPy格式。\n",
    "            predictions.extend(preds.cpu().numpy())\n",
    "    return predictions"
   ],
   "id": "be018c2829bcf5e2",
   "outputs": [],
   "execution_count": 56
  },
  {
   "metadata": {
    "ExecuteTime": {
     "end_time": "2025-01-23T02:14:47.733275Z",
     "start_time": "2025-01-23T02:14:32.525048Z"
    }
   },
   "cell_type": "code",
   "source": "predictions = predict(model, test_dataloader)",
   "id": "d8227e6ad0d23f9",
   "outputs": [],
   "execution_count": 57
  },
  {
   "metadata": {
    "ExecuteTime": {
     "end_time": "2025-01-23T02:14:47.947153Z",
     "start_time": "2025-01-23T02:14:47.834268Z"
    }
   },
   "cell_type": "code",
   "source": "pd.DataFrame(predictions,columns=['label']).to_csv('models/word2vec_textCNN_submit5.csv', index=False)",
   "id": "235fe30715912721",
   "outputs": [],
   "execution_count": 58
  },
  {
   "metadata": {},
   "cell_type": "code",
   "outputs": [],
   "execution_count": null,
   "source": "",
   "id": "ef89a8bc8943415a"
  }
 ],
 "metadata": {
  "kernelspec": {
   "display_name": "Python 3",
   "language": "python",
   "name": "python3"
  },
  "language_info": {
   "codemirror_mode": {
    "name": "ipython",
    "version": 2
   },
   "file_extension": ".py",
   "mimetype": "text/x-python",
   "name": "python",
   "nbconvert_exporter": "python",
   "pygments_lexer": "ipython2",
   "version": "2.7.6"
  }
 },
 "nbformat": 4,
 "nbformat_minor": 5
}
